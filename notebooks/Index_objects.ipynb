{
 "cells": [
  {
   "cell_type": "code",
   "execution_count": 1,
   "id": "e44d45ba",
   "metadata": {},
   "outputs": [],
   "source": [
    "import pandas as pd"
   ]
  },
  {
   "cell_type": "code",
   "execution_count": 4,
   "id": "73bae23d",
   "metadata": {},
   "outputs": [
    {
     "name": "stdout",
     "output_type": "stream",
     "text": [
      "  producto  precio  cantidad\n",
      "0        A     100        10\n",
      "1        B     150        15\n",
      "2        C     200         7\n",
      "3        D     250        20\n",
      "4        E     300         5\n"
     ]
    }
   ],
   "source": [
    "data = {'producto': ['A', 'B', 'C', 'D', 'E'],\n",
    "        'precio': [100, 150, 200, 250, 300],\n",
    "        'cantidad': [10, 15, 7, 20, 5]}\n",
    "\n",
    "df = pd.DataFrame(data)\n",
    "print(df)"
   ]
  },
  {
   "cell_type": "code",
   "execution_count": 5,
   "id": "13ab5489",
   "metadata": {},
   "outputs": [
    {
     "name": "stdout",
     "output_type": "stream",
     "text": [
      "          precio  cantidad\n",
      "producto                  \n",
      "A            100        10\n",
      "B            150        15\n",
      "C            200         7\n",
      "D            250        20\n",
      "E            300         5\n"
     ]
    }
   ],
   "source": [
    "df.set_index('producto', inplace=True)  # Establecer la columna 'Fecha' como índice\n",
    "print(df)"
   ]
  },
  {
   "cell_type": "code",
   "execution_count": 9,
   "id": "3e199ea5",
   "metadata": {},
   "outputs": [
    {
     "name": "stdout",
     "output_type": "stream",
     "text": [
      "Precio del producto A: 100\n"
     ]
    }
   ],
   "source": [
    "precio_A = df.loc['A', 'precio']  # Acceder al precio del producto 'A'\n",
    "print(f\"Precio del producto A: {precio_A}\")"
   ]
  },
  {
   "cell_type": "code",
   "execution_count": 10,
   "id": "14307d13",
   "metadata": {},
   "outputs": [
    {
     "name": "stdout",
     "output_type": "stream",
     "text": [
      "          precio  cantidad\n",
      "producto                  \n",
      "E            300         5\n",
      "D            250        20\n",
      "C            200         7\n",
      "B            150        15\n",
      "A            100        10\n"
     ]
    }
   ],
   "source": [
    "nuevo_orden = df.sort_values(by='precio', ascending=False)  # Ordenar por precio descendente\n",
    "print(nuevo_orden)"
   ]
  },
  {
   "cell_type": "code",
   "execution_count": 14,
   "id": "80e8fa16",
   "metadata": {},
   "outputs": [
    {
     "name": "stdout",
     "output_type": "stream",
     "text": [
      "Index(['A', 'B', 'C'], dtype='object')\n"
     ]
    }
   ],
   "source": [
    "index_2=pd.Index(['A', 'B', 'C', 'X', 'Y', 'Z'])\n",
    "interseccion = df.index.intersection(index_2)\n",
    "print(interseccion)"
   ]
  },
  {
   "cell_type": "code",
   "execution_count": null,
   "id": "d3f0958c",
   "metadata": {},
   "outputs": [],
   "source": []
  }
 ],
 "metadata": {
  "kernelspec": {
   "display_name": "venv",
   "language": "python",
   "name": "python3"
  },
  "language_info": {
   "codemirror_mode": {
    "name": "ipython",
    "version": 3
   },
   "file_extension": ".py",
   "mimetype": "text/x-python",
   "name": "python",
   "nbconvert_exporter": "python",
   "pygments_lexer": "ipython3",
   "version": "3.13.0"
  }
 },
 "nbformat": 4,
 "nbformat_minor": 5
}
