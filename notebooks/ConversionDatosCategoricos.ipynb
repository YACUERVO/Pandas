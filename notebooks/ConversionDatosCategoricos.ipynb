{
 "cells": [
  {
   "cell_type": "code",
   "execution_count": 6,
   "id": "5106ea1d",
   "metadata": {},
   "outputs": [],
   "source": [
    "import pandas as pd\n",
    "import matplotlib.pyplot as plt"
   ]
  },
  {
   "cell_type": "markdown",
   "id": "b93ddedb",
   "metadata": {},
   "source": [
    "## DATOS CATEGORICOS\n",
    "Los datos categóricos son variables que representan categorías o grupos, en lugar de valores numéricos continuos. Cada valor indica una clase, etiqueta o grupo al que pertenece una observación.\n",
    "\n",
    "Ejemplos:\n",
    "\n",
    "Colores: \"rojo\", \"azul\", \"verde\"\n",
    "Género: \"masculino\", \"femenino\"\n",
    "Estado civil: \"soltero\", \"casado\", \"divorciado\"\n",
    "En pandas, los datos categóricos se pueden manejar con el tipo category, lo que ahorra memoria y permite operaciones específicas para este tipo de datos. Son útiles para variables cualitativas, análisis estadístico y machine learnin\n",
    "\n",
    "## CODIFICACION ORDINAL\n",
    "\n",
    "La codificación ordinal es una técnica para convertir datos categóricos que tienen un orden lógico (por ejemplo, \"bajo\", \"medio\", \"alto\") en valores numéricos que respetan ese orden.\n",
    "\n",
    "Por ejemplo:\n",
    "\n",
    "\"bajo\" → 0\n",
    "\"medio\" → 1\n",
    "\"alto\" → 2\n",
    "Esto es útil cuando las categorías representan niveles, rangos o jerarquías. En pandas, puedes usar el tipo CategoricalDtype para definir el orden y luego convertir la columna:\n",
    "\n",
    "## CODIFICACION ONE - HOT\n",
    "La codificación One Hot es una técnica para convertir variables categóricas en variables numéricas binarias. Consiste en crear una columna para cada categoría y asignar 1 si la fila pertenece a esa categoría y 0 en caso contrario.\n",
    "\n",
    "Por ejemplo, para la columna \"Color\" con valores \"rojo\", \"azul\", \"verde\":\n",
    "\n",
    "Color\trojo\tazul\tverde\n",
    "rojo\t1\t0\t0\n",
    "azul\t0\t1\t0\n",
    "verde\t0\t0\t1\n"
   ]
  },
  {
   "cell_type": "code",
   "execution_count": 3,
   "id": "34c78977",
   "metadata": {},
   "outputs": [
    {
     "name": "stdout",
     "output_type": "stream",
     "text": [
      "DataFrame Original:\n"
     ]
    },
    {
     "data": {
      "text/html": [
       "<div>\n",
       "<style scoped>\n",
       "    .dataframe tbody tr th:only-of-type {\n",
       "        vertical-align: middle;\n",
       "    }\n",
       "\n",
       "    .dataframe tbody tr th {\n",
       "        vertical-align: top;\n",
       "    }\n",
       "\n",
       "    .dataframe thead th {\n",
       "        text-align: right;\n",
       "    }\n",
       "</style>\n",
       "<table border=\"1\" class=\"dataframe\">\n",
       "  <thead>\n",
       "    <tr style=\"text-align: right;\">\n",
       "      <th></th>\n",
       "      <th>Producto</th>\n",
       "      <th>Categoria</th>\n",
       "      <th>Calidad</th>\n",
       "      <th>Ventas</th>\n",
       "    </tr>\n",
       "  </thead>\n",
       "  <tbody>\n",
       "    <tr>\n",
       "      <th>0</th>\n",
       "      <td>Manzana</td>\n",
       "      <td>Fruta</td>\n",
       "      <td>Alta</td>\n",
       "      <td>100</td>\n",
       "    </tr>\n",
       "    <tr>\n",
       "      <th>1</th>\n",
       "      <td>Banana</td>\n",
       "      <td>Fruta</td>\n",
       "      <td>Media</td>\n",
       "      <td>150</td>\n",
       "    </tr>\n",
       "    <tr>\n",
       "      <th>2</th>\n",
       "      <td>Cereza</td>\n",
       "      <td>Fruta</td>\n",
       "      <td>Alta</td>\n",
       "      <td>200</td>\n",
       "    </tr>\n",
       "    <tr>\n",
       "      <th>3</th>\n",
       "      <td>Manzana</td>\n",
       "      <td>Fruta</td>\n",
       "      <td>Baja</td>\n",
       "      <td>130</td>\n",
       "    </tr>\n",
       "    <tr>\n",
       "      <th>4</th>\n",
       "      <td>Cereza</td>\n",
       "      <td>Fruta</td>\n",
       "      <td>Media</td>\n",
       "      <td>170</td>\n",
       "    </tr>\n",
       "  </tbody>\n",
       "</table>\n",
       "</div>"
      ],
      "text/plain": [
       "  Producto Categoria Calidad  Ventas\n",
       "0  Manzana     Fruta    Alta     100\n",
       "1   Banana     Fruta   Media     150\n",
       "2   Cereza     Fruta    Alta     200\n",
       "3  Manzana     Fruta    Baja     130\n",
       "4   Cereza     Fruta   Media     170"
      ]
     },
     "metadata": {},
     "output_type": "display_data"
    }
   ],
   "source": [
    "data ={\n",
    "    'Producto': ['Manzana', 'Banana', 'Cereza', 'Manzana', 'Cereza'],\n",
    "    'Categoria': ['Fruta', 'Fruta', 'Fruta', 'Fruta', 'Fruta'],\n",
    "    'Calidad': ['Alta', 'Media', 'Alta', 'Baja', 'Media'],\n",
    "    'Ventas': [100, 150, 200, 130, 170]\n",
    "    \n",
    "}\n",
    "\n",
    "df = pd.DataFrame(data)\n",
    "print(\"DataFrame Original:\")\n",
    "display(df)"
   ]
  },
  {
   "cell_type": "code",
   "execution_count": null,
   "id": "077f7bbd",
   "metadata": {},
   "outputs": [
    {
     "name": "stdout",
     "output_type": "stream",
     "text": [
      "\n",
      "DataFrame con Columna 'Calidad' Codificada:\n"
     ]
    },
    {
     "data": {
      "text/html": [
       "<div>\n",
       "<style scoped>\n",
       "    .dataframe tbody tr th:only-of-type {\n",
       "        vertical-align: middle;\n",
       "    }\n",
       "\n",
       "    .dataframe tbody tr th {\n",
       "        vertical-align: top;\n",
       "    }\n",
       "\n",
       "    .dataframe thead th {\n",
       "        text-align: right;\n",
       "    }\n",
       "</style>\n",
       "<table border=\"1\" class=\"dataframe\">\n",
       "  <thead>\n",
       "    <tr style=\"text-align: right;\">\n",
       "      <th></th>\n",
       "      <th>Producto</th>\n",
       "      <th>Categoria</th>\n",
       "      <th>Calidad</th>\n",
       "      <th>Ventas</th>\n",
       "      <th>Calidad_Codificada</th>\n",
       "    </tr>\n",
       "  </thead>\n",
       "  <tbody>\n",
       "    <tr>\n",
       "      <th>0</th>\n",
       "      <td>Manzana</td>\n",
       "      <td>Fruta</td>\n",
       "      <td>Alta</td>\n",
       "      <td>100</td>\n",
       "      <td>3</td>\n",
       "    </tr>\n",
       "    <tr>\n",
       "      <th>1</th>\n",
       "      <td>Banana</td>\n",
       "      <td>Fruta</td>\n",
       "      <td>Media</td>\n",
       "      <td>150</td>\n",
       "      <td>2</td>\n",
       "    </tr>\n",
       "    <tr>\n",
       "      <th>2</th>\n",
       "      <td>Cereza</td>\n",
       "      <td>Fruta</td>\n",
       "      <td>Alta</td>\n",
       "      <td>200</td>\n",
       "      <td>3</td>\n",
       "    </tr>\n",
       "    <tr>\n",
       "      <th>3</th>\n",
       "      <td>Manzana</td>\n",
       "      <td>Fruta</td>\n",
       "      <td>Baja</td>\n",
       "      <td>130</td>\n",
       "      <td>1</td>\n",
       "    </tr>\n",
       "    <tr>\n",
       "      <th>4</th>\n",
       "      <td>Cereza</td>\n",
       "      <td>Fruta</td>\n",
       "      <td>Media</td>\n",
       "      <td>170</td>\n",
       "      <td>2</td>\n",
       "    </tr>\n",
       "  </tbody>\n",
       "</table>\n",
       "</div>"
      ],
      "text/plain": [
       "  Producto Categoria Calidad  Ventas  Calidad_Codificada\n",
       "0  Manzana     Fruta    Alta     100                   3\n",
       "1   Banana     Fruta   Media     150                   2\n",
       "2   Cereza     Fruta    Alta     200                   3\n",
       "3  Manzana     Fruta    Baja     130                   1\n",
       "4   Cereza     Fruta   Media     170                   2"
      ]
     },
     "metadata": {},
     "output_type": "display_data"
    }
   ],
   "source": [
    "# Convertir la columna calidad a tipo categórico codificado ordinal\n",
    "mapa_calidad = {'Baja': 1, 'Media': 2, 'Alta': 3}\n",
    "df['Calidad_Codificada'] = df['Calidad'].map(mapa_calidad)\n",
    "print(\"\\nDataFrame con Columna 'Calidad' Codificada:\")\n",
    "display(df)"
   ]
  },
  {
   "cell_type": "code",
   "execution_count": 5,
   "id": "7f1fd58a",
   "metadata": {},
   "outputs": [
    {
     "name": "stdout",
     "output_type": "stream",
     "text": [
      "\n",
      "DataFrame con Codificación One-Hot para 'Calidad':\n"
     ]
    },
    {
     "data": {
      "text/html": [
       "<div>\n",
       "<style scoped>\n",
       "    .dataframe tbody tr th:only-of-type {\n",
       "        vertical-align: middle;\n",
       "    }\n",
       "\n",
       "    .dataframe tbody tr th {\n",
       "        vertical-align: top;\n",
       "    }\n",
       "\n",
       "    .dataframe thead th {\n",
       "        text-align: right;\n",
       "    }\n",
       "</style>\n",
       "<table border=\"1\" class=\"dataframe\">\n",
       "  <thead>\n",
       "    <tr style=\"text-align: right;\">\n",
       "      <th></th>\n",
       "      <th>Producto</th>\n",
       "      <th>Categoria</th>\n",
       "      <th>Ventas</th>\n",
       "      <th>Calidad_Codificada</th>\n",
       "      <th>Calidad_Alta</th>\n",
       "      <th>Calidad_Baja</th>\n",
       "      <th>Calidad_Media</th>\n",
       "    </tr>\n",
       "  </thead>\n",
       "  <tbody>\n",
       "    <tr>\n",
       "      <th>0</th>\n",
       "      <td>Manzana</td>\n",
       "      <td>Fruta</td>\n",
       "      <td>100</td>\n",
       "      <td>3</td>\n",
       "      <td>True</td>\n",
       "      <td>False</td>\n",
       "      <td>False</td>\n",
       "    </tr>\n",
       "    <tr>\n",
       "      <th>1</th>\n",
       "      <td>Banana</td>\n",
       "      <td>Fruta</td>\n",
       "      <td>150</td>\n",
       "      <td>2</td>\n",
       "      <td>False</td>\n",
       "      <td>False</td>\n",
       "      <td>True</td>\n",
       "    </tr>\n",
       "    <tr>\n",
       "      <th>2</th>\n",
       "      <td>Cereza</td>\n",
       "      <td>Fruta</td>\n",
       "      <td>200</td>\n",
       "      <td>3</td>\n",
       "      <td>True</td>\n",
       "      <td>False</td>\n",
       "      <td>False</td>\n",
       "    </tr>\n",
       "    <tr>\n",
       "      <th>3</th>\n",
       "      <td>Manzana</td>\n",
       "      <td>Fruta</td>\n",
       "      <td>130</td>\n",
       "      <td>1</td>\n",
       "      <td>False</td>\n",
       "      <td>True</td>\n",
       "      <td>False</td>\n",
       "    </tr>\n",
       "    <tr>\n",
       "      <th>4</th>\n",
       "      <td>Cereza</td>\n",
       "      <td>Fruta</td>\n",
       "      <td>170</td>\n",
       "      <td>2</td>\n",
       "      <td>False</td>\n",
       "      <td>False</td>\n",
       "      <td>True</td>\n",
       "    </tr>\n",
       "  </tbody>\n",
       "</table>\n",
       "</div>"
      ],
      "text/plain": [
       "  Producto Categoria  Ventas  Calidad_Codificada  Calidad_Alta  Calidad_Baja  \\\n",
       "0  Manzana     Fruta     100                   3          True         False   \n",
       "1   Banana     Fruta     150                   2         False         False   \n",
       "2   Cereza     Fruta     200                   3          True         False   \n",
       "3  Manzana     Fruta     130                   1         False          True   \n",
       "4   Cereza     Fruta     170                   2         False         False   \n",
       "\n",
       "   Calidad_Media  \n",
       "0          False  \n",
       "1           True  \n",
       "2          False  \n",
       "3          False  \n",
       "4           True  "
      ]
     },
     "metadata": {},
     "output_type": "display_data"
    }
   ],
   "source": [
    "# Codificacion One-Hot para la columna calidad\n",
    "df_onehot = pd.get_dummies(df, columns=['Calidad'], prefix='Calidad')\n",
    "print(\"\\nDataFrame con Codificación One-Hot para 'Calidad':\")\n",
    "display(df_onehot)"
   ]
  },
  {
   "cell_type": "code",
   "execution_count": 7,
   "id": "c94d1c3e",
   "metadata": {},
   "outputs": [
    {
     "name": "stdout",
     "output_type": "stream",
     "text": [
      "\n",
      "Tipos de Datos en el DataFrame Original:\n",
      "Producto              object\n",
      "Categoria             object\n",
      "Calidad               object\n",
      "Ventas                 int64\n",
      "Calidad_Codificada     int64\n",
      "dtype: object\n"
     ]
    }
   ],
   "source": [
    "# Visualizar los tipos de datos\n",
    "print(\"\\nTipos de Datos en el DataFrame Original:\")\n",
    "print(df.dtypes)"
   ]
  },
  {
   "cell_type": "code",
   "execution_count": 9,
   "id": "4fa227b4",
   "metadata": {},
   "outputs": [
    {
     "data": {
      "image/png": "[encoded data removed]",
      "text/plain": [
       "<Figure size 1000x600 with 1 Axes>"
      ]
     },
     "metadata": {},
     "output_type": "display_data"
    }
   ],
   "source": [
    "#Grafico de barras\n",
    "plt.figure(figsize=(10, 6))\n",
    "plt.bar(df['Producto'], df['Calidad_Codificada'], color='skyblue')\n",
    "plt.xlabel('Producto')\n",
    "plt.ylabel('Calidad Codificada')\n",
    "plt.title('Calidad Codificada por producto y calidad')\n",
    "plt.show()"
   ]
  },
  {
   "cell_type": "code",
   "execution_count": 12,
   "id": "104ca9cc",
   "metadata": {},
   "outputs": [
    {
     "data": {
      "image/png": "[encoded data removed]",
      "text/plain": [
       "<Figure size 800x500 with 1 Axes>"
      ]
     },
     "metadata": {},
     "output_type": "display_data"
    }
   ],
   "source": [
    "# Seleccionar solo las columnas de calidad\n",
    "categorias = ['Calidad_Alta', 'Calidad_Baja', 'Calidad_Media']\n",
    "conteo = df_onehot[categorias].sum()\n",
    "\n",
    "# Graficar solo las tres categorías de calidad\n",
    "plt.figure(figsize=(8, 5))\n",
    "conteo.plot(kind='bar', color='skyblue')\n",
    "plt.xlabel('Categoría de Calidad')\n",
    "plt.ylabel('Cantidad de Productos')\n",
    "plt.title('Cantidad de productos por calidad (One Hot)')\n",
    "plt.show()"
   ]
  }
 ],
 "metadata": {
  "kernelspec": {
   "display_name": "venv",
   "language": "python",
   "name": "python3"
  },
  "language_info": {
   "codemirror_mode": {
    "name": "ipython",
    "version": 3
   },
   "file_extension": ".py",
   "mimetype": "text/x-python",
   "name": "python",
   "nbconvert_exporter": "python",
   "pygments_lexer": "ipython3",
   "version": "3.13.0"
  }
 },
 "nbformat": 4,
 "nbformat_minor": 5
}
