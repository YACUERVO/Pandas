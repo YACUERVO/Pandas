{
 "cells": [
  {
   "cell_type": "code",
   "execution_count": 1,
   "id": "a63dfcc6",
   "metadata": {},
   "outputs": [],
   "source": [
    "import pandas as pd"
   ]
  },
  {
   "cell_type": "code",
   "execution_count": null,
   "id": "72f8c517",
   "metadata": {},
   "outputs": [],
   "source": [
    "# Exportar datos a CSV con delimitadres\n",
    "df.to_csv('ventas_productos.csv', sep=';', index=False)\n",
    "\n",
    "#Exportar datos a Excel\n",
    "df.to_excel('ventas_productos.xlsx', index=False)\n",
    "\n",
    "# Exportar datos a JSON\n",
    "df.to_json('ventas_productos.json', orient='records', lines=True)\n",
    "\n",
    "# Exportar datos sin encabezados\n",
    "df.to_csv('ventas_sin_encabezados.csv', header=False, index=False)\n",
    "\n"
   ]
  },
  {
   "cell_type": "code",
   "execution_count": null,
   "id": "b8329ddf",
   "metadata": {},
   "outputs": [],
   "source": [
    "# Controlar la la numero de decimales en la exportación\n",
    "df.to_csv('ventas_redondeadas.csv', float_format='%.2f', index=False)\n",
    "\n",
    "# Operaciones de compresion al exportar\n",
    "df.to_csv('ventas_comprimidas.csv.gz', index=False, compression='gzip')\n",
    "df.to_excel('ventas_comprimidas.xlsx', index=False, compression={'method': 'zip', 'archive_name': 'ventas.xlsx'})   \n",
    "\n",
    "# Configurar opciones de codificación de caracteres\n",
    "df.to_csv('ventas_utf16.csv', index=False, encoding='utf-16')\n",
    "df.to_csv('ventas_latin1.csv', index=False, encoding='latin1')\n",
    "\n",
    "# Exportar a formatos binarios\n",
    "df.to_parquet('ventas_producto.parquet', index=False)\n",
    "df.to_hdf('ventas_producto.h5', key='df', mode='w')\n",
    "\n",
    "# Exportar a una carpeta específica (por ejemplo, 'Data')\n",
    "df.to_csv('Data/ventas_productos.csv', index=False)\n",
    "\n",
    "# Asegurarse de que la carpeta 'Data' existe antes de exportar\n",
    "import os\n",
    "os.makedirs('Data', exist_ok=True)\n",
    "df.to_csv('Data/ventas_productos.csv', index=False)\n",
    "\n",
    "# Manejo de datos nulos cuando se exporta\n",
    "df.to_csv('ventas_sin_nulos.csv', index=False, na_rep='N/A')\n",
    "\n",
    "# Exportar solo columnas específicas\n",
    "df.to_csv('ventas_columnas_especificas.csv', columns=['Producto', 'Ventas'], index=False)\n",
    "\n",
    "\n",
    "\n"
   ]
  }
 ],
 "metadata": {
  "kernelspec": {
   "display_name": "venv",
   "language": "python",
   "name": "python3"
  },
  "language_info": {
   "codemirror_mode": {
    "name": "ipython",
    "version": 3
   },
   "file_extension": ".py",
   "mimetype": "text/x-python",
   "name": "python",
   "nbconvert_exporter": "python",
   "pygments_lexer": "ipython3",
   "version": "3.13.0"
  }
 },
 "nbformat": 4,
 "nbformat_minor": 5
}
