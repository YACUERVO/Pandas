{
 "cells": [
  {
   "cell_type": "code",
   "execution_count": 5,
   "id": "77e00b09",
   "metadata": {},
   "outputs": [],
   "source": [
    "import pandas as pd"
   ]
  },
  {
   "cell_type": "code",
   "execution_count": 9,
   "id": "ed4f458d",
   "metadata": {},
   "outputs": [
    {
     "data": {
      "text/html": [
       "<div>\n",
       "<style scoped>\n",
       "    .dataframe tbody tr th:only-of-type {\n",
       "        vertical-align: middle;\n",
       "    }\n",
       "\n",
       "    .dataframe tbody tr th {\n",
       "        vertical-align: top;\n",
       "    }\n",
       "\n",
       "    .dataframe thead th {\n",
       "        text-align: right;\n",
       "    }\n",
       "</style>\n",
       "<table border=\"1\" class=\"dataframe\">\n",
       "  <thead>\n",
       "    <tr style=\"text-align: right;\">\n",
       "      <th></th>\n",
       "      <th>A</th>\n",
       "      <th>B</th>\n",
       "      <th>C</th>\n",
       "    </tr>\n",
       "  </thead>\n",
       "  <tbody>\n",
       "    <tr>\n",
       "      <th>0</th>\n",
       "      <td>1.0</td>\n",
       "      <td>1</td>\n",
       "      <td>1.0</td>\n",
       "    </tr>\n",
       "    <tr>\n",
       "      <th>1</th>\n",
       "      <td>NaN</td>\n",
       "      <td>2</td>\n",
       "      <td>2.0</td>\n",
       "    </tr>\n",
       "    <tr>\n",
       "      <th>2</th>\n",
       "      <td>3.0</td>\n",
       "      <td>3</td>\n",
       "      <td>NaN</td>\n",
       "    </tr>\n",
       "    <tr>\n",
       "      <th>3</th>\n",
       "      <td>4.0</td>\n",
       "      <td>4</td>\n",
       "      <td>4.0</td>\n",
       "    </tr>\n",
       "    <tr>\n",
       "      <th>4</th>\n",
       "      <td>NaN</td>\n",
       "      <td>5</td>\n",
       "      <td>5.0</td>\n",
       "    </tr>\n",
       "  </tbody>\n",
       "</table>\n",
       "</div>"
      ],
      "text/plain": [
       "     A  B    C\n",
       "0  1.0  1  1.0\n",
       "1  NaN  2  2.0\n",
       "2  3.0  3  NaN\n",
       "3  4.0  4  4.0\n",
       "4  NaN  5  5.0"
      ]
     },
     "execution_count": 9,
     "metadata": {},
     "output_type": "execute_result"
    }
   ],
   "source": [
    "#Tecnicas para el manejo de datos faltantes\n",
    "data = {\n",
    "    'A': [1, None, 3, 4, None],\n",
    "    'B': [1, 2, 3, 4, 5],\n",
    "    'C': [1, 2, None, 4, 5]\n",
    "}\n",
    "\n",
    "df = pd.DataFrame(data)\n",
    "df"
   ]
  },
  {
   "cell_type": "code",
   "execution_count": 7,
   "id": "fab265c8",
   "metadata": {},
   "outputs": [
    {
     "name": "stdout",
     "output_type": "stream",
     "text": [
      "Datos faltantes por columna:\n",
      " A    2\n",
      "B    0\n",
      "C    1\n",
      "dtype: int64\n"
     ]
    }
   ],
   "source": [
    "#Metodo isnull\n",
    "faltantes_columnas = df.isnull().sum()\n",
    "print(\"Datos faltantes por columna:\\n\", faltantes_columnas)"
   ]
  },
  {
   "cell_type": "code",
   "execution_count": 11,
   "id": "7a0b19cc",
   "metadata": {},
   "outputs": [
    {
     "name": "stdout",
     "output_type": "stream",
     "text": [
      "\n",
      "DataFrame sin filas con datos faltantes:\n",
      "      A  B    C\n",
      "0  1.0  1  1.0\n",
      "3  4.0  4  4.0\n"
     ]
    }
   ],
   "source": [
    "#Eliminar filas con datos faltantes\n",
    "df_sin_faltantes = df.dropna()\n",
    "print(\"\\nDataFrame sin filas con datos faltantes:\\n\", df_sin_faltantes)"
   ]
  },
  {
   "cell_type": "code",
   "execution_count": 10,
   "id": "d548c79f",
   "metadata": {},
   "outputs": [
    {
     "name": "stdout",
     "output_type": "stream",
     "text": [
      "\n",
      "DataFrame sin columnas con datos faltantes:\n",
      "    B\n",
      "0  1\n",
      "1  2\n",
      "2  3\n",
      "3  4\n",
      "4  5\n"
     ]
    }
   ],
   "source": [
    "#Eliminar columnas con datos faltantes\n",
    "df_sin_columnas_faltantes = df.dropna(axis=1)\n",
    "print(\"\\nDataFrame sin columnas con datos faltantes:\\n\", df_sin_columnas_faltantes)"
   ]
  },
  {
   "cell_type": "code",
   "execution_count": 14,
   "id": "74c6bd96",
   "metadata": {},
   "outputs": [
    {
     "name": "stdout",
     "output_type": "stream",
     "text": [
      "\n",
      "DataFrame con datos faltantes rellenados con 0:\n",
      "      A  B    C\n",
      "0  1.0  1  1.0\n",
      "1  0.0  2  2.0\n",
      "2  3.0  3  0.0\n",
      "3  4.0  4  4.0\n",
      "4  0.0  5  5.0\n",
      "\n",
      "DataFrame con datos faltantes rellenados con la media:\n",
      "           A  B    C\n",
      "0  1.000000  1  1.0\n",
      "1  2.666667  2  2.0\n",
      "2  3.000000  3  3.0\n",
      "3  4.000000  4  4.0\n",
      "4  2.666667  5  5.0\n"
     ]
    }
   ],
   "source": [
    "#Metodo fillna\n",
    "df_relleno = df.fillna(0)\n",
    "print(\"\\nDataFrame con datos faltantes rellenados con 0:\\n\", df_relleno)\n",
    "\n",
    "df_relleno_media = df.fillna(df.mean())\n",
    "print(\"\\nDataFrame con datos faltantes rellenados con la media:\\n\", df_relleno_media)"
   ]
  },
  {
   "cell_type": "code",
   "execution_count": 15,
   "id": "5caa0d0e",
   "metadata": {},
   "outputs": [
    {
     "data": {
      "text/html": [
       "<div>\n",
       "<style scoped>\n",
       "    .dataframe tbody tr th:only-of-type {\n",
       "        vertical-align: middle;\n",
       "    }\n",
       "\n",
       "    .dataframe tbody tr th {\n",
       "        vertical-align: top;\n",
       "    }\n",
       "\n",
       "    .dataframe thead th {\n",
       "        text-align: right;\n",
       "    }\n",
       "</style>\n",
       "<table border=\"1\" class=\"dataframe\">\n",
       "  <thead>\n",
       "    <tr style=\"text-align: right;\">\n",
       "      <th></th>\n",
       "      <th>A</th>\n",
       "      <th>B</th>\n",
       "      <th>C</th>\n",
       "    </tr>\n",
       "  </thead>\n",
       "  <tbody>\n",
       "    <tr>\n",
       "      <th>0</th>\n",
       "      <td>1.0</td>\n",
       "      <td>1</td>\n",
       "      <td>1.0</td>\n",
       "    </tr>\n",
       "    <tr>\n",
       "      <th>1</th>\n",
       "      <td>NaN</td>\n",
       "      <td>2</td>\n",
       "      <td>2.0</td>\n",
       "    </tr>\n",
       "    <tr>\n",
       "      <th>2</th>\n",
       "      <td>3.0</td>\n",
       "      <td>3</td>\n",
       "      <td>NaN</td>\n",
       "    </tr>\n",
       "    <tr>\n",
       "      <th>3</th>\n",
       "      <td>4.0</td>\n",
       "      <td>4</td>\n",
       "      <td>4.0</td>\n",
       "    </tr>\n",
       "    <tr>\n",
       "      <th>4</th>\n",
       "      <td>NaN</td>\n",
       "      <td>5</td>\n",
       "      <td>5.0</td>\n",
       "    </tr>\n",
       "  </tbody>\n",
       "</table>\n",
       "</div>"
      ],
      "text/plain": [
       "     A  B    C\n",
       "0  1.0  1  1.0\n",
       "1  NaN  2  2.0\n",
       "2  3.0  3  NaN\n",
       "3  4.0  4  4.0\n",
       "4  NaN  5  5.0"
      ]
     },
     "execution_count": 15,
     "metadata": {},
     "output_type": "execute_result"
    }
   ],
   "source": [
    "df "
   ]
  },
  {
   "cell_type": "code",
   "execution_count": null,
   "id": "68cabc5e",
   "metadata": {},
   "outputs": [
    {
     "name": "stdout",
     "output_type": "stream",
     "text": [
      "\n",
      "DataFrame con datos faltantes rellenados con el valor anterior:\n",
      "      A  B    C\n",
      "0  1.0  1  1.0\n",
      "1  1.0  2  2.0\n",
      "2  3.0  3  2.0\n",
      "3  4.0  4  4.0\n",
      "4  4.0  5  5.0\n"
     ]
    },
    {
     "name": "stderr",
     "output_type": "stream",
     "text": [
      "C:\\Users\\Admin\\AppData\\Local\\Temp\\ipykernel_19968\\4066706300.py:2: FutureWarning: DataFrame.fillna with 'method' is deprecated and will raise in a future version. Use obj.ffill() or obj.bfill() instead.\n",
      "  df_relleno_anterior = df.fillna(method='ffill')\n"
     ]
    }
   ],
   "source": [
    "#Rellenar con los datos anteriores\n",
    "df_relleno_anterior = df.fillna(method='ffill')\n",
    "print(\"\\nDataFrame con datos faltantes rellenados con el valor anterior:\\n\", df_relleno_anterior)"
   ]
  },
  {
   "cell_type": "code",
   "execution_count": 17,
   "id": "03f1422b",
   "metadata": {},
   "outputs": [
    {
     "name": "stdout",
     "output_type": "stream",
     "text": [
      "\n",
      "DataFrame con datos faltantes rellenados con el valor siguiente:\n",
      "      A  B    C\n",
      "0  1.0  1  1.0\n",
      "1  3.0  2  2.0\n",
      "2  3.0  3  4.0\n",
      "3  4.0  4  4.0\n",
      "4  NaN  5  5.0\n"
     ]
    },
    {
     "name": "stderr",
     "output_type": "stream",
     "text": [
      "C:\\Users\\Admin\\AppData\\Local\\Temp\\ipykernel_19968\\2149636856.py:2: FutureWarning: DataFrame.fillna with 'method' is deprecated and will raise in a future version. Use obj.ffill() or obj.bfill() instead.\n",
      "  df_relleno_siguiente = df.fillna(method='bfill')\n"
     ]
    }
   ],
   "source": [
    "#Rellenar con los datos siguientes\n",
    "df_relleno_siguiente = df.fillna(method='bfill')\n",
    "print(\"\\nDataFrame con datos faltantes rellenados con el valor siguiente:\\n\", df_relleno_siguiente)"
   ]
  },
  {
   "cell_type": "code",
   "execution_count": null,
   "id": "a1dcdb05",
   "metadata": {},
   "outputs": [],
   "source": []
  }
 ],
 "metadata": {
  "kernelspec": {
   "display_name": "venv",
   "language": "python",
   "name": "python3"
  },
  "language_info": {
   "codemirror_mode": {
    "name": "ipython",
    "version": 3
   },
   "file_extension": ".py",
   "mimetype": "text/x-python",
   "name": "python",
   "nbconvert_exporter": "python",
   "pygments_lexer": "ipython3",
   "version": "3.13.0"
  }
 },
 "nbformat": 4,
 "nbformat_minor": 5
}
