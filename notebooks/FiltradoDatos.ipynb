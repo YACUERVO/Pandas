{
 "cells": [
  {
   "cell_type": "code",
   "execution_count": 1,
   "id": "db91af35",
   "metadata": {},
   "outputs": [],
   "source": [
    "import pandas as pd"
   ]
  },
  {
   "cell_type": "code",
   "execution_count": 2,
   "id": "248e0add",
   "metadata": {},
   "outputs": [
    {
     "data": {
      "text/html": [
       "<div>\n",
       "<style scoped>\n",
       "    .dataframe tbody tr th:only-of-type {\n",
       "        vertical-align: middle;\n",
       "    }\n",
       "\n",
       "    .dataframe tbody tr th {\n",
       "        vertical-align: top;\n",
       "    }\n",
       "\n",
       "    .dataframe thead th {\n",
       "        text-align: right;\n",
       "    }\n",
       "</style>\n",
       "<table border=\"1\" class=\"dataframe\">\n",
       "  <thead>\n",
       "    <tr style=\"text-align: right;\">\n",
       "      <th></th>\n",
       "      <th>producto</th>\n",
       "      <th>precio</th>\n",
       "      <th>stock</th>\n",
       "    </tr>\n",
       "  </thead>\n",
       "  <tbody>\n",
       "    <tr>\n",
       "      <th>0</th>\n",
       "      <td>Manzanas</td>\n",
       "      <td>100</td>\n",
       "      <td>100</td>\n",
       "    </tr>\n",
       "    <tr>\n",
       "      <th>1</th>\n",
       "      <td>Naranjas</td>\n",
       "      <td>80</td>\n",
       "      <td>50</td>\n",
       "    </tr>\n",
       "    <tr>\n",
       "      <th>2</th>\n",
       "      <td>Platanos</td>\n",
       "      <td>60</td>\n",
       "      <td>30</td>\n",
       "    </tr>\n",
       "    <tr>\n",
       "      <th>3</th>\n",
       "      <td>Uvas</td>\n",
       "      <td>120</td>\n",
       "      <td>20</td>\n",
       "    </tr>\n",
       "    <tr>\n",
       "      <th>4</th>\n",
       "      <td>Peras</td>\n",
       "      <td>90</td>\n",
       "      <td>10</td>\n",
       "    </tr>\n",
       "  </tbody>\n",
       "</table>\n",
       "</div>"
      ],
      "text/plain": [
       "   producto  precio  stock\n",
       "0  Manzanas     100    100\n",
       "1  Naranjas      80     50\n",
       "2  Platanos      60     30\n",
       "3      Uvas     120     20\n",
       "4     Peras      90     10"
      ]
     },
     "execution_count": 2,
     "metadata": {},
     "output_type": "execute_result"
    }
   ],
   "source": [
    "data = {\n",
    "    'producto': ['Manzanas', 'Naranjas', 'Platanos', 'Uvas','Peras'],\n",
    "    'precio': [100, 80, 60, 120, 90],\n",
    "    'stock': [100, 50, 30, 20,10]  }\n",
    "\n",
    "df = pd.DataFrame(data)\n",
    "\n",
    "df "
   ]
  },
  {
   "cell_type": "code",
   "execution_count": 4,
   "id": "f1f86548",
   "metadata": {},
   "outputs": [
    {
     "name": "stdout",
     "output_type": "stream",
     "text": [
      "Productos con precio mayor a 80:\n",
      "    producto  precio  stock\n",
      "0  Manzanas     100    100\n",
      "3      Uvas     120     20\n",
      "4     Peras      90     10\n"
     ]
    }
   ],
   "source": [
    "#Filtro condición de precio\n",
    "filtro_precio = df[df['precio'] > 80]\n",
    "print(\"Productos con precio mayor a 80:\\n\", filtro_precio)\n"
   ]
  },
  {
   "cell_type": "code",
   "execution_count": null,
   "id": "27edd643",
   "metadata": {},
   "outputs": [
    {
     "name": "stdout",
     "output_type": "stream",
     "text": [
      "Productos con precio mayor a 80 y stock menor a 30:\n",
      "    producto  precio  stock\n",
      "0  Manzanas     100    100\n"
     ]
    }
   ],
   "source": [
    "#Filtrar con multiples condiciones\n",
    "filtro_multiple = df[(df['precio'] > 80) & (df['stock'] > 30)]\n",
    "print(\"Productos con precio mayor a 80 y stock menor a 30:\\n\", filtro_multiple)\n",
    "\n"
   ]
  },
  {
   "cell_type": "code",
   "execution_count": 9,
   "id": "b4836d1e",
   "metadata": {},
   "outputs": [
    {
     "name": "stdout",
     "output_type": "stream",
     "text": [
      "Productos que contienen la letra 'v':\n",
      "   producto  precio  stock\n",
      "3     Uvas     120     20\n"
     ]
    }
   ],
   "source": [
    "#Filtro con texto\n",
    "filtro_texto = df[df['producto'].str.contains('v')]\n",
    "print(\"Productos que contienen la letra 'v':\\n\", filtro_texto)"
   ]
  },
  {
   "cell_type": "code",
   "execution_count": 10,
   "id": "0420f058",
   "metadata": {},
   "outputs": [
    {
     "name": "stdout",
     "output_type": "stream",
     "text": [
      "Filtrado por columnas 'producto' y 'precio':\n",
      "    producto  precio\n",
      "0  Manzanas     100\n",
      "1  Naranjas      80\n",
      "2  Platanos      60\n",
      "3      Uvas     120\n",
      "4     Peras      90\n"
     ]
    }
   ],
   "source": [
    "#Filtar por columnas\n",
    "filtro_columnas = df[['producto', 'precio']]\n",
    "print(\"Filtrado por columnas 'producto' y 'precio':\\n\", filtro_columnas)"
   ]
  },
  {
   "cell_type": "code",
   "execution_count": null,
   "id": "53f8fd5c",
   "metadata": {},
   "outputs": [
    {
     "name": "stdout",
     "output_type": "stream",
     "text": [
      "Productos con precio mayor a 80 y stock menor a 30 usando query:\n",
      "   producto  precio  stock\n",
      "3     Uvas     120     20\n",
      "4    Peras      90     10\n"
     ]
    }
   ],
   "source": [
    "#Metodo query\n",
    "filtro_query = df.query(\"precio > 80 and stock < 30\")\n",
    "print(\"Productos con precio mayor a 80 y stock menor a 30 usando query:\\n\", filtro_query)\n",
    "\n",
    "#"
   ]
  },
  {
   "cell_type": "code",
   "execution_count": 12,
   "id": "d3075d5b",
   "metadata": {},
   "outputs": [
    {
     "name": "stdout",
     "output_type": "stream",
     "text": [
      "Productos que son Manzanas o Uvas:\n",
      "    producto  precio  stock\n",
      "0  Manzanas     100    100\n",
      "3      Uvas     120     20\n"
     ]
    }
   ],
   "source": [
    "#Metodo isin\n",
    "filtro_isin = df[df['producto'].isin(['Manzanas', 'Uvas'])]\n",
    "print(\"Productos que son Manzanas o Uvas:\\n\", filtro_isin)"
   ]
  }
 ],
 "metadata": {
  "kernelspec": {
   "display_name": "venv",
   "language": "python",
   "name": "python3"
  },
  "language_info": {
   "codemirror_mode": {
    "name": "ipython",
    "version": 3
   },
   "file_extension": ".py",
   "mimetype": "text/x-python",
   "name": "python",
   "nbconvert_exporter": "python",
   "pygments_lexer": "ipython3",
   "version": "3.13.0"
  }
 },
 "nbformat": 4,
 "nbformat_minor": 5
}
