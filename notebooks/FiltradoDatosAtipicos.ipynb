{
 "cells": [
  {
   "cell_type": "code",
   "execution_count": 21,
   "id": "94076444",
   "metadata": {},
   "outputs": [],
   "source": [
    "import pandas as pd"
   ]
  },
  {
   "cell_type": "code",
   "execution_count": 22,
   "id": "a026c36d",
   "metadata": {},
   "outputs": [
    {
     "data": {
      "text/html": [
       "<div>\n",
       "<style scoped>\n",
       "    .dataframe tbody tr th:only-of-type {\n",
       "        vertical-align: middle;\n",
       "    }\n",
       "\n",
       "    .dataframe tbody tr th {\n",
       "        vertical-align: top;\n",
       "    }\n",
       "\n",
       "    .dataframe thead th {\n",
       "        text-align: right;\n",
       "    }\n",
       "</style>\n",
       "<table border=\"1\" class=\"dataframe\">\n",
       "  <thead>\n",
       "    <tr style=\"text-align: right;\">\n",
       "      <th></th>\n",
       "      <th>Empleado</th>\n",
       "      <th>Salario</th>\n",
       "      <th>Departamento</th>\n",
       "      <th>Años_Experiencia</th>\n",
       "    </tr>\n",
       "  </thead>\n",
       "  <tbody>\n",
       "    <tr>\n",
       "      <th>0</th>\n",
       "      <td>Juan</td>\n",
       "      <td>50000</td>\n",
       "      <td>Ventas</td>\n",
       "      <td>5</td>\n",
       "    </tr>\n",
       "    <tr>\n",
       "      <th>1</th>\n",
       "      <td>Ana</td>\n",
       "      <td>60000</td>\n",
       "      <td>Marketing</td>\n",
       "      <td>7</td>\n",
       "    </tr>\n",
       "    <tr>\n",
       "      <th>2</th>\n",
       "      <td>Pedro</td>\n",
       "      <td>55000</td>\n",
       "      <td>Ventas</td>\n",
       "      <td>6</td>\n",
       "    </tr>\n",
       "    <tr>\n",
       "      <th>3</th>\n",
       "      <td>Maria</td>\n",
       "      <td>58000</td>\n",
       "      <td>IT</td>\n",
       "      <td>8</td>\n",
       "    </tr>\n",
       "    <tr>\n",
       "      <th>4</th>\n",
       "      <td>Luis</td>\n",
       "      <td>120000</td>\n",
       "      <td>Marketing</td>\n",
       "      <td>9</td>\n",
       "    </tr>\n",
       "    <tr>\n",
       "      <th>5</th>\n",
       "      <td>Yamith</td>\n",
       "      <td>500</td>\n",
       "      <td>Analista</td>\n",
       "      <td>1</td>\n",
       "    </tr>\n",
       "  </tbody>\n",
       "</table>\n",
       "</div>"
      ],
      "text/plain": [
       "  Empleado  Salario Departamento  Años_Experiencia\n",
       "0     Juan    50000       Ventas                 5\n",
       "1      Ana    60000    Marketing                 7\n",
       "2    Pedro    55000       Ventas                 6\n",
       "3    Maria    58000           IT                 8\n",
       "4     Luis   120000    Marketing                 9\n",
       "5   Yamith      500     Analista                 1"
      ]
     },
     "execution_count": 22,
     "metadata": {},
     "output_type": "execute_result"
    }
   ],
   "source": [
    "data = {\n",
    "    'Empleado': ['Juan', 'Ana', 'Pedro', 'Maria', 'Luis','Yamith'],\n",
    "    'Salario': [50000, 60000, 55000, 58000, 120000,500],\n",
    "    'Departamento': ['Ventas', 'Marketing', 'Ventas', 'IT', 'Marketing','Analista'],\n",
    "    'Años_Experiencia': [5, 7, 6, 8, 9,1]   \n",
    "    \n",
    "}\n",
    "\n",
    "df = pd.DataFrame(data)\n",
    "# This code creates a DataFrame with employee data including their names, salaries, departments, and\n",
    "# years of experience. The DataFrame is then displayed.\n",
    "\n",
    "df"
   ]
  },
  {
   "cell_type": "code",
   "execution_count": 23,
   "id": "f8e39c92",
   "metadata": {},
   "outputs": [
    {
     "name": "stdout",
     "output_type": "stream",
     "text": [
      "Salario mediano: 56500.0\n",
      "Desviación estándar del salario: 38010.19600054701\n",
      "DataFrame con columna de valores atípicos:\n",
      "   Empleado  Salario Departamento  Años_Experiencia  Es_Atipico\n",
      "0     Juan    50000       Ventas                 5       False\n",
      "1      Ana    60000    Marketing                 7       False\n",
      "2    Pedro    55000       Ventas                 6       False\n",
      "3    Maria    58000           IT                 8       False\n",
      "4     Luis   120000    Marketing                 9        True\n",
      "5   Yamith      500     Analista                 1        True\n"
     ]
    }
   ],
   "source": [
    "median_salario = df['Salario'].median()\n",
    "print(\"Salario mediano:\", median_salario)\n",
    "std_salario = df['Salario'].std()\n",
    "print(\"Desviación estándar del salario:\", std_salario)\n",
    "\n",
    "# Identificar valores atípicos usando el método del rango intercuartílico (IQR)\n",
    "umbral = 1\n",
    "\n",
    "df['Es_Atipico'] = abs(df['Salario'] - median_salario) > umbral * std_salario\n",
    "print(\"DataFrame con columna de valores atípicos:\\n\", df)"
   ]
  },
  {
   "cell_type": "code",
   "execution_count": 24,
   "id": "c4eceb5b",
   "metadata": {},
   "outputs": [
    {
     "name": "stdout",
     "output_type": "stream",
     "text": [
      "DataFrame con columna de valores atípicos usando IQR:\n",
      "   Empleado  Salario Departamento  Años_Experiencia  Es_Atipico  Es_Atipico_IQR\n",
      "0     Juan    50000       Ventas                 5       False           False\n",
      "1      Ana    60000    Marketing                 7       False           False\n",
      "2    Pedro    55000       Ventas                 6       False           False\n",
      "3    Maria    58000           IT                 8       False           False\n",
      "4     Luis   120000    Marketing                 9        True            True\n",
      "5   Yamith      500     Analista                 1        True            True\n"
     ]
    }
   ],
   "source": [
    "#buscando datos atípicos con con percentiles y cuartiles\n",
    "percentil_25 = df['Salario'].quantile(0.25)\n",
    "percentil_75 = df['Salario'].quantile(0.75)\n",
    "iqr = percentil_75 - percentil_25\n",
    "\n",
    "umbral_inferior = percentil_25 - 1.5 * iqr\n",
    "umbral_superior = percentil_75 + 1.5 * iqr\n",
    "\n",
    "\n",
    "df['Es_Atipico_IQR'] = (df['Salario'] < umbral_inferior) | (df['Salario'] > umbral_superior)\n",
    "print(\"DataFrame con columna de valores atípicos usando IQR:\\n\", df)\n"
   ]
  },
  {
   "cell_type": "code",
   "execution_count": null,
   "id": "5d699250",
   "metadata": {},
   "outputs": [
    {
     "name": "stdout",
     "output_type": "stream",
     "text": [
      "DataFrame sin valores atípicos:\n",
      "   Empleado  Salario Departamento  Años_Experiencia  Es_Atipico  Es_Atipico_IQR\n",
      "0     Juan    50000       Ventas                 5       False           False\n",
      "1      Ana    60000    Marketing                 7       False           False\n",
      "2    Pedro    55000       Ventas                 6       False           False\n",
      "3    Maria    58000           IT                 8       False           False\n"
     ]
    }
   ],
   "source": [
    "#Eliminar filas con valores atípicos\n",
    "df_sin_atipicos = df[~df['Es_Atipico'] & ~df['Es_Atipico_IQR']]\n",
    "print(\"DataFrame sin valores atípicos:\\n\", df_sin_atipicos)"
   ]
  },
  {
   "cell_type": "code",
   "execution_count": 27,
   "id": "30bd3f91",
   "metadata": {},
   "outputs": [
    {
     "data": {
      "text/html": [
       "<div>\n",
       "<style scoped>\n",
       "    .dataframe tbody tr th:only-of-type {\n",
       "        vertical-align: middle;\n",
       "    }\n",
       "\n",
       "    .dataframe tbody tr th {\n",
       "        vertical-align: top;\n",
       "    }\n",
       "\n",
       "    .dataframe thead th {\n",
       "        text-align: right;\n",
       "    }\n",
       "</style>\n",
       "<table border=\"1\" class=\"dataframe\">\n",
       "  <thead>\n",
       "    <tr style=\"text-align: right;\">\n",
       "      <th></th>\n",
       "      <th>Empleado</th>\n",
       "      <th>Salario</th>\n",
       "      <th>Departamento</th>\n",
       "      <th>Años_Experiencia</th>\n",
       "      <th>Es_Atipico</th>\n",
       "      <th>Es_Atipico_IQR</th>\n",
       "    </tr>\n",
       "  </thead>\n",
       "  <tbody>\n",
       "    <tr>\n",
       "      <th>0</th>\n",
       "      <td>Juan</td>\n",
       "      <td>50000</td>\n",
       "      <td>Ventas</td>\n",
       "      <td>5</td>\n",
       "      <td>False</td>\n",
       "      <td>False</td>\n",
       "    </tr>\n",
       "    <tr>\n",
       "      <th>1</th>\n",
       "      <td>Ana</td>\n",
       "      <td>60000</td>\n",
       "      <td>Marketing</td>\n",
       "      <td>7</td>\n",
       "      <td>False</td>\n",
       "      <td>False</td>\n",
       "    </tr>\n",
       "    <tr>\n",
       "      <th>2</th>\n",
       "      <td>Pedro</td>\n",
       "      <td>55000</td>\n",
       "      <td>Ventas</td>\n",
       "      <td>6</td>\n",
       "      <td>False</td>\n",
       "      <td>False</td>\n",
       "    </tr>\n",
       "    <tr>\n",
       "      <th>3</th>\n",
       "      <td>Maria</td>\n",
       "      <td>58000</td>\n",
       "      <td>IT</td>\n",
       "      <td>8</td>\n",
       "      <td>False</td>\n",
       "      <td>False</td>\n",
       "    </tr>\n",
       "    <tr>\n",
       "      <th>4</th>\n",
       "      <td>Luis</td>\n",
       "      <td>56500</td>\n",
       "      <td>Marketing</td>\n",
       "      <td>9</td>\n",
       "      <td>True</td>\n",
       "      <td>True</td>\n",
       "    </tr>\n",
       "    <tr>\n",
       "      <th>5</th>\n",
       "      <td>Yamith</td>\n",
       "      <td>56500</td>\n",
       "      <td>Analista</td>\n",
       "      <td>1</td>\n",
       "      <td>True</td>\n",
       "      <td>True</td>\n",
       "    </tr>\n",
       "  </tbody>\n",
       "</table>\n",
       "</div>"
      ],
      "text/plain": [
       "  Empleado  Salario Departamento  Años_Experiencia  Es_Atipico  Es_Atipico_IQR\n",
       "0     Juan    50000       Ventas                 5       False           False\n",
       "1      Ana    60000    Marketing                 7       False           False\n",
       "2    Pedro    55000       Ventas                 6       False           False\n",
       "3    Maria    58000           IT                 8       False           False\n",
       "4     Luis    56500    Marketing                 9        True            True\n",
       "5   Yamith    56500     Analista                 1        True            True"
      ]
     },
     "execution_count": 27,
     "metadata": {},
     "output_type": "execute_result"
    }
   ],
   "source": [
    "#Reemplazar valores atípicos con la mediana\n",
    "df.loc[df['Es_Atipico'], 'Salario'] = median_salario\n",
    "df"
   ]
  },
  {
   "cell_type": "code",
   "execution_count": null,
   "id": "6cf52f86",
   "metadata": {},
   "outputs": [
    {
     "name": "stdout",
     "output_type": "stream",
     "text": [
      "DataFrame con columna de valores atípicos usando IQR:\n",
      "   Empleado  Salario Departamento  Años_Experiencia  Es_Atipico  Es_Atipico_IQR\n",
      "0     Juan    50000       Ventas                 5       False            True\n",
      "1      Ana    60000    Marketing                 7       False           False\n",
      "2    Pedro    55000       Ventas                 6       False           False\n",
      "3    Maria    58000           IT                 8       False           False\n",
      "4     Luis    56500    Marketing                 9        True           False\n",
      "5   Yamith    56500     Analista                 1        True           False\n"
     ]
    }
   ],
   "source": [
    "#buscando datos atípicos con con percentiles y cuartiles\n",
    "percentil_25 = df['Salario'].quantile(0.25)\n",
    "percentil_75 = df['Salario'].quantile(0.75)\n",
    "iqr = percentil_75 - percentil_25\n",
    "\n",
    "umbral_inferior = percentil_25 - 1.5 * iqr\n",
    "umbral_superior = percentil_75 + 1.5 * iqr\n",
    "\n",
    "\n",
    "df['Es_Atipico_IQR'] = (df['Salario'] < umbral_inferior) | (df['Salario'] > umbral_superior)\n",
    "print(\"DataFrame con columna de valores atípicos usando IQR:\\n\", df)"
   ]
  }
 ],
 "metadata": {
  "kernelspec": {
   "display_name": "venv",
   "language": "python",
   "name": "python3"
  },
  "language_info": {
   "codemirror_mode": {
    "name": "ipython",
    "version": 3
   },
   "file_extension": ".py",
   "mimetype": "text/x-python",
   "name": "python",
   "nbconvert_exporter": "python",
   "pygments_lexer": "ipython3",
   "version": "3.13.0"
  }
 },
 "nbformat": 4,
 "nbformat_minor": 5
}
