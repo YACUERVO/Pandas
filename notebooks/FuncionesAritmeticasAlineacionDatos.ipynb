{
 "cells": [
  {
   "cell_type": "code",
   "execution_count": 1,
   "id": "00c16c7b",
   "metadata": {},
   "outputs": [],
   "source": [
    "import pandas as pd"
   ]
  },
  {
   "cell_type": "code",
   "execution_count": 9,
   "id": "42b14559",
   "metadata": {},
   "outputs": [],
   "source": [
    "s1 = pd.Series([10, 20, 30], index=['a', 'b', 'c'])\n",
    "s2 = pd.Series([40, 50, 60,70], index=['b', 'c', 'd','e'])    "
   ]
  },
  {
   "cell_type": "code",
   "execution_count": 10,
   "id": "b3dc4915",
   "metadata": {},
   "outputs": [
    {
     "data": {
      "text/plain": [
       "a     NaN\n",
       "b    60.0\n",
       "c    80.0\n",
       "d     NaN\n",
       "e     NaN\n",
       "dtype: float64"
      ]
     },
     "execution_count": 10,
     "metadata": {},
     "output_type": "execute_result"
    }
   ],
   "source": [
    "s1 + s2  # Suma de Series con alineación automática"
   ]
  },
  {
   "cell_type": "code",
   "execution_count": 13,
   "id": "6063f0e8",
   "metadata": {},
   "outputs": [
    {
     "name": "stdout",
     "output_type": "stream",
     "text": [
      "a    10.0\n",
      "b    60.0\n",
      "c    80.0\n",
      "d    60.0\n",
      "e    70.0\n",
      "dtype: float64\n",
      "a    10.0\n",
      "b   -20.0\n",
      "c   -20.0\n",
      "d   -60.0\n",
      "e   -70.0\n",
      "dtype: float64\n",
      "a      10.0\n",
      "b     800.0\n",
      "c    1500.0\n",
      "d      60.0\n",
      "e      70.0\n",
      "dtype: float64\n",
      "a    10.000000\n",
      "b     0.500000\n",
      "c     0.600000\n",
      "d     0.016667\n",
      "e     0.014286\n",
      "dtype: float64\n",
      "a     0.0\n",
      "b    20.0\n",
      "c    30.0\n",
      "d     1.0\n",
      "e     1.0\n",
      "dtype: float64\n"
     ]
    }
   ],
   "source": [
    "#Sumar con metodo add\n",
    "suma_series = s1.add(s2, fill_value=0)  # Suma con alineación y manejo de valores faltantes\n",
    "#Sumar con metodo sub\n",
    "resta_serie = s1.sub(s2, fill_value=0)  # Resta con alineación y manejo de valores faltantes\n",
    "#Sumar con metodo mul\n",
    "multiplicacion_serie=s1.mul(s2, fill_value=1)  # Multiplicación con alineación y manejo de valores faltantes\n",
    "#Sumar con metodo div               \n",
    "division_serie= s1.div(s2, fill_value=1)  # División con alineación y manejo de valores faltantes\n",
    "#Sumar con metodo mod\n",
    "modelulo= s1.mod(s2, fill_value=1)  # Módulo con alineación y manejo de valores faltantes\n",
    "#Sumar con metodo pow\n",
    "potencia = s1.pow(s2, fill_value=1)  # Potencia con alineación y manejo de valores faltantes   \n",
    "\n",
    "print(f'{suma_series}')\n",
    "print(resta_serie)\n",
    "print(multiplicacion_serie)\n",
    "print(division_serie)\n",
    "print(modelulo) \n",
    "\n"
   ]
  },
  {
   "cell_type": "code",
   "execution_count": 14,
   "id": "978030ce",
   "metadata": {},
   "outputs": [],
   "source": [
    "#sumar dataframe con index diferentes\n",
    "df1 = pd.DataFrame({'A': [1, 2], 'B': [3, 4]}, index=['a', 'b'])\n",
    "df2 = pd.DataFrame({'A': [5, 6], 'B': [7, 8]}, index=['b', 'c'])"
   ]
  },
  {
   "cell_type": "code",
   "execution_count": 19,
   "id": "809ce9b4",
   "metadata": {},
   "outputs": [
    {
     "name": "stdout",
     "output_type": "stream",
     "text": [
      "Suma de DataFrames:\n"
     ]
    },
    {
     "data": {
      "text/html": [
       "<div>\n",
       "<style scoped>\n",
       "    .dataframe tbody tr th:only-of-type {\n",
       "        vertical-align: middle;\n",
       "    }\n",
       "\n",
       "    .dataframe tbody tr th {\n",
       "        vertical-align: top;\n",
       "    }\n",
       "\n",
       "    .dataframe thead th {\n",
       "        text-align: right;\n",
       "    }\n",
       "</style>\n",
       "<table border=\"1\" class=\"dataframe\">\n",
       "  <thead>\n",
       "    <tr style=\"text-align: right;\">\n",
       "      <th></th>\n",
       "      <th>A</th>\n",
       "      <th>B</th>\n",
       "    </tr>\n",
       "  </thead>\n",
       "  <tbody>\n",
       "    <tr>\n",
       "      <th>a</th>\n",
       "      <td>1.0</td>\n",
       "      <td>3.0</td>\n",
       "    </tr>\n",
       "    <tr>\n",
       "      <th>b</th>\n",
       "      <td>7.0</td>\n",
       "      <td>11.0</td>\n",
       "    </tr>\n",
       "    <tr>\n",
       "      <th>c</th>\n",
       "      <td>6.0</td>\n",
       "      <td>8.0</td>\n",
       "    </tr>\n",
       "  </tbody>\n",
       "</table>\n",
       "</div>"
      ],
      "text/plain": [
       "     A     B\n",
       "a  1.0   3.0\n",
       "b  7.0  11.0\n",
       "c  6.0   8.0"
      ]
     },
     "execution_count": 19,
     "metadata": {},
     "output_type": "execute_result"
    }
   ],
   "source": [
    "#sumar dataframes\n",
    "suma_df = df1.add(df2, fill_value=0)  # Suma de DataFrames con alineación automática    \n",
    "print('Suma de DataFrames:')\n",
    "suma_df\n"
   ]
  }
 ],
 "metadata": {
  "kernelspec": {
   "display_name": "venv",
   "language": "python",
   "name": "python3"
  },
  "language_info": {
   "codemirror_mode": {
    "name": "ipython",
    "version": 3
   },
   "file_extension": ".py",
   "mimetype": "text/x-python",
   "name": "python",
   "nbconvert_exporter": "python",
   "pygments_lexer": "ipython3",
   "version": "3.13.0"
  }
 },
 "nbformat": 4,
 "nbformat_minor": 5
}
