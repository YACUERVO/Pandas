{
 "cells": [
  {
   "cell_type": "code",
   "execution_count": 39,
   "id": "0ad2b613",
   "metadata": {},
   "outputs": [],
   "source": [
    "import pandas as pd\n",
    "import numpy as np\n"
   ]
  },
  {
   "cell_type": "code",
   "execution_count": 35,
   "id": "23ebb98a",
   "metadata": {},
   "outputs": [
    {
     "data": {
      "text/html": [
       "<div>\n",
       "<style scoped>\n",
       "    .dataframe tbody tr th:only-of-type {\n",
       "        vertical-align: middle;\n",
       "    }\n",
       "\n",
       "    .dataframe tbody tr th {\n",
       "        vertical-align: top;\n",
       "    }\n",
       "\n",
       "    .dataframe thead th {\n",
       "        text-align: right;\n",
       "    }\n",
       "</style>\n",
       "<table border=\"1\" class=\"dataframe\">\n",
       "  <thead>\n",
       "    <tr style=\"text-align: right;\">\n",
       "      <th></th>\n",
       "      <th>ORDEN</th>\n",
       "      <th>IPAT</th>\n",
       "      <th>FECHA</th>\n",
       "      <th>AÑO</th>\n",
       "      <th>MES</th>\n",
       "      <th>DIA</th>\n",
       "      <th>GRAVEDAD</th>\n",
       "    </tr>\n",
       "  </thead>\n",
       "  <tbody>\n",
       "    <tr>\n",
       "      <th>0</th>\n",
       "      <td>1</td>\n",
       "      <td>A000057026</td>\n",
       "      <td>2017-03-16T00:00:00.000</td>\n",
       "      <td>2017</td>\n",
       "      <td>3</td>\n",
       "      <td>jueves</td>\n",
       "      <td>CON HERIDOS</td>\n",
       "    </tr>\n",
       "    <tr>\n",
       "      <th>1</th>\n",
       "      <td>2</td>\n",
       "      <td>A000057029</td>\n",
       "      <td>2017-03-14T00:00:00.000</td>\n",
       "      <td>2017</td>\n",
       "      <td>3</td>\n",
       "      <td>martes</td>\n",
       "      <td>CON HERIDOS</td>\n",
       "    </tr>\n",
       "    <tr>\n",
       "      <th>2</th>\n",
       "      <td>3</td>\n",
       "      <td>A000057030</td>\n",
       "      <td>2017-03-14T00:00:00.000</td>\n",
       "      <td>2017</td>\n",
       "      <td>3</td>\n",
       "      <td>martes</td>\n",
       "      <td>CON HERIDOS</td>\n",
       "    </tr>\n",
       "    <tr>\n",
       "      <th>3</th>\n",
       "      <td>4</td>\n",
       "      <td>A000057022</td>\n",
       "      <td>2017-03-14T00:00:00.000</td>\n",
       "      <td>2017</td>\n",
       "      <td>3</td>\n",
       "      <td>martes</td>\n",
       "      <td>SOLO DAÑOS</td>\n",
       "    </tr>\n",
       "    <tr>\n",
       "      <th>4</th>\n",
       "      <td>5</td>\n",
       "      <td>A000056976</td>\n",
       "      <td>2017-03-14T00:00:00.000</td>\n",
       "      <td>2017</td>\n",
       "      <td>3</td>\n",
       "      <td>martes</td>\n",
       "      <td>SOLO DAÑOS</td>\n",
       "    </tr>\n",
       "  </tbody>\n",
       "</table>\n",
       "</div>"
      ],
      "text/plain": [
       "   ORDEN        IPAT                    FECHA   AÑO  MES     DIA     GRAVEDAD\n",
       "0      1  A000057026  2017-03-16T00:00:00.000  2017    3  jueves  CON HERIDOS\n",
       "1      2  A000057029  2017-03-14T00:00:00.000  2017    3  martes  CON HERIDOS\n",
       "2      3  A000057030  2017-03-14T00:00:00.000  2017    3  martes  CON HERIDOS\n",
       "3      4  A000057022  2017-03-14T00:00:00.000  2017    3  martes   SOLO DAÑOS\n",
       "4      5  A000056976  2017-03-14T00:00:00.000  2017    3  martes   SOLO DAÑOS"
      ]
     },
     "execution_count": 35,
     "metadata": {},
     "output_type": "execute_result"
    }
   ],
   "source": [
    "data = pd.read_csv('C:/Users/Admin/Documents/proyectosAnalisisDatos/Pandas/ACCIDENTES_DE_TRANSITO.csv')\n",
    "data.head()"
   ]
  },
  {
   "cell_type": "code",
   "execution_count": 37,
   "id": "7a20702f",
   "metadata": {},
   "outputs": [
    {
     "data": {
      "text/plain": [
       "(1724, 7)"
      ]
     },
     "execution_count": 37,
     "metadata": {},
     "output_type": "execute_result"
    }
   ],
   "source": [
    "data.shape"
   ]
  },
  {
   "cell_type": "code",
   "execution_count": 38,
   "id": "9416c646",
   "metadata": {},
   "outputs": [
    {
     "data": {
      "text/html": [
       "<div>\n",
       "<style scoped>\n",
       "    .dataframe tbody tr th:only-of-type {\n",
       "        vertical-align: middle;\n",
       "    }\n",
       "\n",
       "    .dataframe tbody tr th {\n",
       "        vertical-align: top;\n",
       "    }\n",
       "\n",
       "    .dataframe thead th {\n",
       "        text-align: right;\n",
       "    }\n",
       "</style>\n",
       "<table border=\"1\" class=\"dataframe\">\n",
       "  <thead>\n",
       "    <tr style=\"text-align: right;\">\n",
       "      <th></th>\n",
       "      <th>ORDEN</th>\n",
       "      <th>AÑO</th>\n",
       "      <th>MES</th>\n",
       "    </tr>\n",
       "  </thead>\n",
       "  <tbody>\n",
       "    <tr>\n",
       "      <th>count</th>\n",
       "      <td>1724.000000</td>\n",
       "      <td>1724.000000</td>\n",
       "      <td>1724.000000</td>\n",
       "    </tr>\n",
       "    <tr>\n",
       "      <th>mean</th>\n",
       "      <td>862.500000</td>\n",
       "      <td>2019.316125</td>\n",
       "      <td>6.237819</td>\n",
       "    </tr>\n",
       "    <tr>\n",
       "      <th>std</th>\n",
       "      <td>497.820249</td>\n",
       "      <td>1.656642</td>\n",
       "      <td>3.306591</td>\n",
       "    </tr>\n",
       "    <tr>\n",
       "      <th>min</th>\n",
       "      <td>1.000000</td>\n",
       "      <td>2017.000000</td>\n",
       "      <td>1.000000</td>\n",
       "    </tr>\n",
       "    <tr>\n",
       "      <th>25%</th>\n",
       "      <td>431.750000</td>\n",
       "      <td>2018.000000</td>\n",
       "      <td>3.000000</td>\n",
       "    </tr>\n",
       "    <tr>\n",
       "      <th>50%</th>\n",
       "      <td>862.500000</td>\n",
       "      <td>2019.000000</td>\n",
       "      <td>6.000000</td>\n",
       "    </tr>\n",
       "    <tr>\n",
       "      <th>75%</th>\n",
       "      <td>1293.250000</td>\n",
       "      <td>2021.000000</td>\n",
       "      <td>9.000000</td>\n",
       "    </tr>\n",
       "    <tr>\n",
       "      <th>max</th>\n",
       "      <td>1724.000000</td>\n",
       "      <td>2022.000000</td>\n",
       "      <td>12.000000</td>\n",
       "    </tr>\n",
       "  </tbody>\n",
       "</table>\n",
       "</div>"
      ],
      "text/plain": [
       "             ORDEN          AÑO          MES\n",
       "count  1724.000000  1724.000000  1724.000000\n",
       "mean    862.500000  2019.316125     6.237819\n",
       "std     497.820249     1.656642     3.306591\n",
       "min       1.000000  2017.000000     1.000000\n",
       "25%     431.750000  2018.000000     3.000000\n",
       "50%     862.500000  2019.000000     6.000000\n",
       "75%    1293.250000  2021.000000     9.000000\n",
       "max    1724.000000  2022.000000    12.000000"
      ]
     },
     "execution_count": 38,
     "metadata": {},
     "output_type": "execute_result"
    }
   ],
   "source": [
    "data.describe()"
   ]
  },
  {
   "cell_type": "code",
   "execution_count": null,
   "id": "5be7cc73",
   "metadata": {},
   "outputs": [],
   "source": []
  }
 ],
 "metadata": {
  "kernelspec": {
   "display_name": "venv",
   "language": "python",
   "name": "python3"
  },
  "language_info": {
   "codemirror_mode": {
    "name": "ipython",
    "version": 3
   },
   "file_extension": ".py",
   "mimetype": "text/x-python",
   "name": "python",
   "nbconvert_exporter": "python",
   "pygments_lexer": "ipython3",
   "version": "3.13.0"
  }
 },
 "nbformat": 4,
 "nbformat_minor": 5
}
