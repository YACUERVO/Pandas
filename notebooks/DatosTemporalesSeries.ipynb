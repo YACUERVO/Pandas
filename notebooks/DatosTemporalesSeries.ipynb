{
 "cells": [
  {
   "cell_type": "code",
   "execution_count": 1,
   "id": "6a001574",
   "metadata": {},
   "outputs": [],
   "source": [
    "import  pandas as pd    "
   ]
  },
  {
   "cell_type": "code",
   "execution_count": 6,
   "id": "25d327e1",
   "metadata": {},
   "outputs": [
    {
     "name": "stdout",
     "output_type": "stream",
     "text": [
      "2020-01-01    34\n",
      "2020-01-02    44\n",
      "2020-01-03    65\n",
      "2020-01-04    53\n",
      "2020-01-05    39\n",
      "2020-01-06    76\n",
      "Freq: D, dtype: int64\n",
      "44\n"
     ]
    }
   ],
   "source": [
    "fechas = pd.date_range(start='2020-01-01', periods=6, freq='D')  # Generar un rango de fechas\n",
    "valores = [34,44,65,53,39,76] # Valores asociados a las fechas\n",
    "serie_temporal = pd.Series(valores, index=fechas)  # Crear una serie temporal\n",
    "\n",
    "\n",
    "print(serie_temporal)\n",
    "print(serie_temporal['2020-01-02'])  # Acceder a un valor específico por fecha"
   ]
  },
  {
   "cell_type": "code",
   "execution_count": 7,
   "id": "f8ad9dc2",
   "metadata": {},
   "outputs": [
    {
     "name": "stdout",
     "output_type": "stream",
     "text": [
      "2020-01-02    44\n",
      "2020-01-03    65\n",
      "2020-01-04    53\n",
      "2020-01-05    39\n",
      "Freq: D, dtype: int64\n"
     ]
    }
   ],
   "source": [
    "print(serie_temporal['2020-01-02':'2020-01-05'])  # Acceder a un rango de fechas"
   ]
  },
  {
   "cell_type": "code",
   "execution_count": 16,
   "id": "84bb9ad5",
   "metadata": {},
   "outputs": [
    {
     "data": {
      "text/html": [
       "<div>\n",
       "<style scoped>\n",
       "    .dataframe tbody tr th:only-of-type {\n",
       "        vertical-align: middle;\n",
       "    }\n",
       "\n",
       "    .dataframe tbody tr th {\n",
       "        vertical-align: top;\n",
       "    }\n",
       "\n",
       "    .dataframe thead th {\n",
       "        text-align: right;\n",
       "    }\n",
       "</style>\n",
       "<table border=\"1\" class=\"dataframe\">\n",
       "  <thead>\n",
       "    <tr style=\"text-align: right;\">\n",
       "      <th></th>\n",
       "      <th>Fecha</th>\n",
       "      <th>Ventas</th>\n",
       "    </tr>\n",
       "  </thead>\n",
       "  <tbody>\n",
       "    <tr>\n",
       "      <th>0</th>\n",
       "      <td>2020-01-01</td>\n",
       "      <td>345</td>\n",
       "    </tr>\n",
       "    <tr>\n",
       "      <th>1</th>\n",
       "      <td>2020-01-02</td>\n",
       "      <td>456</td>\n",
       "    </tr>\n",
       "    <tr>\n",
       "      <th>2</th>\n",
       "      <td>2020-01-03</td>\n",
       "      <td>567</td>\n",
       "    </tr>\n",
       "    <tr>\n",
       "      <th>3</th>\n",
       "      <td>2020-01-04</td>\n",
       "      <td>678</td>\n",
       "    </tr>\n",
       "    <tr>\n",
       "      <th>4</th>\n",
       "      <td>2020-01-05</td>\n",
       "      <td>234</td>\n",
       "    </tr>\n",
       "    <tr>\n",
       "      <th>5</th>\n",
       "      <td>2020-01-06</td>\n",
       "      <td>590</td>\n",
       "    </tr>\n",
       "  </tbody>\n",
       "</table>\n",
       "</div>"
      ],
      "text/plain": [
       "       Fecha  Ventas\n",
       "0 2020-01-01     345\n",
       "1 2020-01-02     456\n",
       "2 2020-01-03     567\n",
       "3 2020-01-04     678\n",
       "4 2020-01-05     234\n",
       "5 2020-01-06     590"
      ]
     },
     "execution_count": 16,
     "metadata": {},
     "output_type": "execute_result"
    }
   ],
   "source": [
    "data = {\n",
    "    'Fecha': pd.date_range(start='2020-01-01', periods=6, freq='D'),\n",
    "    'Ventas': [345, 456, 567, 678, 234, 590]\n",
    "}\n",
    "df = pd.DataFrame(data)\n",
    "df"
   ]
  },
  {
   "cell_type": "code",
   "execution_count": 17,
   "id": "0ca2c5f9",
   "metadata": {},
   "outputs": [
    {
     "name": "stdout",
     "output_type": "stream",
     "text": [
      "            Ventas\n",
      "Fecha             \n",
      "2020-01-01     345\n",
      "2020-01-02     456\n",
      "2020-01-03     567\n",
      "2020-01-04     678\n",
      "2020-01-05     234\n",
      "2020-01-06     590\n"
     ]
    }
   ],
   "source": [
    "df.set_index('Fecha', inplace=True)  # Establecer la columna 'Fecha' como índice\n",
    "print(df)"
   ]
  },
  {
   "cell_type": "code",
   "execution_count": 20,
   "id": "dd95fdbb",
   "metadata": {},
   "outputs": [
    {
     "name": "stdout",
     "output_type": "stream",
     "text": [
      "                Ventas\n",
      "Fecha                 \n",
      "2020-01-31  478.333333\n"
     ]
    },
    {
     "name": "stderr",
     "output_type": "stream",
     "text": [
      "C:\\Users\\Admin\\AppData\\Local\\Temp\\ipykernel_48196\\1350544356.py:1: FutureWarning: 'M' is deprecated and will be removed in a future version, please use 'ME' instead.\n",
      "  resumen_mensual = df.resample('M').mean()  # Resumir datos mensuales\n"
     ]
    }
   ],
   "source": [
    "resumen_mensual = df.resample('M').mean()  # Resumir datos mensuales\n",
    "print(resumen_mensual)  # Mostrar el resumen mensual"
   ]
  },
  {
   "cell_type": "code",
   "execution_count": null,
   "id": "3fd80cf1",
   "metadata": {},
   "outputs": [
    {
     "name": "stdout",
     "output_type": "stream",
     "text": [
      "            Ventas  ventas_desplazadas  Cambio_Ventas\n",
      "Fecha                                                \n",
      "2020-01-01     345                 NaN            NaN\n",
      "2020-01-02     456               345.0          111.0\n",
      "2020-01-03     567               456.0          111.0\n",
      "2020-01-04     678               567.0          111.0\n",
      "2020-01-05     234               678.0         -444.0\n",
      "2020-01-06     590               234.0          356.0\n"
     ]
    }
   ],
   "source": [
    "df['ventas_desplazadas'] = df['Ventas'].shift(1)  # Desplazar los datos de ventas\n",
    "df['Cambio_Ventas'] = df['Ventas'].diff()  # Calcular la diferencia entre ventas actuales y anteriores\n",
    "print(df)  # Mostrar el DataFrame con la columna desplazada"
   ]
  }
 ],
 "metadata": {
  "kernelspec": {
   "display_name": "venv",
   "language": "python",
   "name": "python3"
  },
  "language_info": {
   "codemirror_mode": {
    "name": "ipython",
    "version": 3
   },
   "file_extension": ".py",
   "mimetype": "text/x-python",
   "name": "python",
   "nbconvert_exporter": "python",
   "pygments_lexer": "ipython3",
   "version": "3.13.0"
  }
 },
 "nbformat": 4,
 "nbformat_minor": 5
}
