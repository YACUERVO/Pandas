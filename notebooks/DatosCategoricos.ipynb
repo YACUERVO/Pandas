{
 "cells": [
  {
   "cell_type": "code",
   "execution_count": 3,
   "id": "c5fb2e5a",
   "metadata": {},
   "outputs": [],
   "source": [
    "import pandas as pd"
   ]
  },
  {
   "cell_type": "code",
   "execution_count": 4,
   "id": "f0c15d0a",
   "metadata": {},
   "outputs": [
    {
     "data": {
      "text/html": [
       "<div>\n",
       "<style scoped>\n",
       "    .dataframe tbody tr th:only-of-type {\n",
       "        vertical-align: middle;\n",
       "    }\n",
       "\n",
       "    .dataframe tbody tr th {\n",
       "        vertical-align: top;\n",
       "    }\n",
       "\n",
       "    .dataframe thead th {\n",
       "        text-align: right;\n",
       "    }\n",
       "</style>\n",
       "<table border=\"1\" class=\"dataframe\">\n",
       "  <thead>\n",
       "    <tr style=\"text-align: right;\">\n",
       "      <th></th>\n",
       "      <th>Empleado</th>\n",
       "      <th>Departamento</th>\n",
       "      <th>Salario</th>\n",
       "      <th>Años_Experiencia</th>\n",
       "      <th>Ciudad</th>\n",
       "    </tr>\n",
       "  </thead>\n",
       "  <tbody>\n",
       "    <tr>\n",
       "      <th>0</th>\n",
       "      <td>Juan</td>\n",
       "      <td>Ventas</td>\n",
       "      <td>50000</td>\n",
       "      <td>5</td>\n",
       "      <td>Madrid</td>\n",
       "    </tr>\n",
       "    <tr>\n",
       "      <th>1</th>\n",
       "      <td>Ana</td>\n",
       "      <td>Marketing</td>\n",
       "      <td>60000</td>\n",
       "      <td>7</td>\n",
       "      <td>Barcelona</td>\n",
       "    </tr>\n",
       "    <tr>\n",
       "      <th>2</th>\n",
       "      <td>Pedro</td>\n",
       "      <td>Ventas</td>\n",
       "      <td>55000</td>\n",
       "      <td>6</td>\n",
       "      <td>Madrid</td>\n",
       "    </tr>\n",
       "    <tr>\n",
       "      <th>3</th>\n",
       "      <td>Luis</td>\n",
       "      <td>IT</td>\n",
       "      <td>58000</td>\n",
       "      <td>8</td>\n",
       "      <td>Sevilla</td>\n",
       "    </tr>\n",
       "    <tr>\n",
       "      <th>4</th>\n",
       "      <td>Maria</td>\n",
       "      <td>Marketing</td>\n",
       "      <td>62000</td>\n",
       "      <td>9</td>\n",
       "      <td>Barcelona</td>\n",
       "    </tr>\n",
       "    <tr>\n",
       "      <th>5</th>\n",
       "      <td>Ana</td>\n",
       "      <td>IT</td>\n",
       "      <td>60000</td>\n",
       "      <td>7</td>\n",
       "      <td>Sevilla</td>\n",
       "    </tr>\n",
       "    <tr>\n",
       "      <th>6</th>\n",
       "      <td>Pedro</td>\n",
       "      <td>Ventas</td>\n",
       "      <td>55000</td>\n",
       "      <td>6</td>\n",
       "      <td>Madrid</td>\n",
       "    </tr>\n",
       "    <tr>\n",
       "      <th>7</th>\n",
       "      <td>Luis</td>\n",
       "      <td>Marketing</td>\n",
       "      <td>58000</td>\n",
       "      <td>8</td>\n",
       "      <td>Barcelona</td>\n",
       "    </tr>\n",
       "    <tr>\n",
       "      <th>8</th>\n",
       "      <td>Maria</td>\n",
       "      <td>Ventas</td>\n",
       "      <td>62000</td>\n",
       "      <td>9</td>\n",
       "      <td>Sevilla</td>\n",
       "    </tr>\n",
       "  </tbody>\n",
       "</table>\n",
       "</div>"
      ],
      "text/plain": [
       "  Empleado Departamento  Salario  Años_Experiencia     Ciudad\n",
       "0     Juan       Ventas    50000                 5     Madrid\n",
       "1      Ana    Marketing    60000                 7  Barcelona\n",
       "2    Pedro       Ventas    55000                 6     Madrid\n",
       "3     Luis           IT    58000                 8    Sevilla\n",
       "4    Maria    Marketing    62000                 9  Barcelona\n",
       "5      Ana           IT    60000                 7    Sevilla\n",
       "6    Pedro       Ventas    55000                 6     Madrid\n",
       "7     Luis    Marketing    58000                 8  Barcelona\n",
       "8    Maria       Ventas    62000                 9    Sevilla"
      ]
     },
     "metadata": {},
     "output_type": "display_data"
    }
   ],
   "source": [
    "df = pd.DataFrame({\n",
    "    'Empleado': ['Juan', 'Ana', 'Pedro', 'Luis','Maria','Ana','Pedro','Luis','Maria'],\n",
    "    'Departamento': ['Ventas', 'Marketing','Ventas', 'IT','Marketing','IT', 'Ventas', 'Marketing','Ventas'],\n",
    "    'Salario': [50000, 60000, 55000, 58000, 62000, 60000,55000,58000,62000 ],\n",
    "    'Años_Experiencia': [5, 7, 6, 8, 9, 7, 6, 8, 9],\n",
    "    'Ciudad': ['Madrid', 'Barcelona', 'Madrid', 'Sevilla', 'Barcelona', 'Sevilla', 'Madrid', 'Barcelona', 'Sevilla']})\n",
    "\n",
    "display(df)"
   ]
  },
  {
   "cell_type": "code",
   "execution_count": null,
   "id": "781b2603",
   "metadata": {},
   "outputs": [
    {
     "data": {
      "text/plain": [
       "0       Ventas\n",
       "1    Marketing\n",
       "2       Ventas\n",
       "3           IT\n",
       "4    Marketing\n",
       "5           IT\n",
       "6       Ventas\n",
       "7    Marketing\n",
       "8       Ventas\n",
       "Name: Departamento, dtype: object"
      ]
     },
     "execution_count": 6,
     "metadata": {},
     "output_type": "execute_result"
    }
   ],
   "source": [
    "df['Departamento'] "
   ]
  },
  {
   "cell_type": "code",
   "execution_count": 8,
   "id": "3fd15c22",
   "metadata": {},
   "outputs": [
    {
     "data": {
      "text/plain": [
       "Empleado              object\n",
       "Departamento        category\n",
       "Salario                int64\n",
       "Años_Experiencia       int64\n",
       "Ciudad              category\n",
       "dtype: object"
      ]
     },
     "metadata": {},
     "output_type": "display_data"
    },
    {
     "data": {
      "text/plain": [
       "0       Ventas\n",
       "1    Marketing\n",
       "2       Ventas\n",
       "3           IT\n",
       "4    Marketing\n",
       "5           IT\n",
       "6       Ventas\n",
       "7    Marketing\n",
       "8       Ventas\n",
       "Name: Departamento, dtype: category\n",
       "Categories (3, object): ['IT', 'Marketing', 'Ventas']"
      ]
     },
     "execution_count": 8,
     "metadata": {},
     "output_type": "execute_result"
    }
   ],
   "source": [
    "df['Departamento'] = df['Departamento'].astype('category')\n",
    "df['Ciudad'] = df['Ciudad'].astype('category')\n",
    "display(df.dtypes)\n",
    "\n",
    "df['Departamento']"
   ]
  },
  {
   "cell_type": "code",
   "execution_count": null,
   "id": "e382fd6f",
   "metadata": {},
   "outputs": [
    {
     "data": {
      "text/plain": [
       "Index(['IT', 'Marketing', 'Ventas'], dtype='object')"
      ]
     },
     "execution_count": 9,
     "metadata": {},
     "output_type": "execute_result"
    }
   ],
   "source": [
    "#Listar las categorías\n",
    "df['Departamento'].cat.categories"
   ]
  },
  {
   "cell_type": "code",
   "execution_count": null,
   "id": "1651141b",
   "metadata": {},
   "outputs": [
    {
     "data": {
      "text/plain": [
       "0    2\n",
       "1    1\n",
       "2    2\n",
       "3    0\n",
       "4    1\n",
       "5    0\n",
       "6    2\n",
       "7    1\n",
       "8    2\n",
       "dtype: int8"
      ]
     },
     "execution_count": 10,
     "metadata": {},
     "output_type": "execute_result"
    }
   ],
   "source": [
    "#Acceder a los códigos de las categorías\n",
    "df['Departamento'].cat.codes"
   ]
  },
  {
   "cell_type": "code",
   "execution_count": 13,
   "id": "1552cfff",
   "metadata": {},
   "outputs": [
    {
     "data": {
      "text/plain": [
       "0       Ventas\n",
       "1    Marketing\n",
       "2       Ventas\n",
       "3           IT\n",
       "4    Marketing\n",
       "5           IT\n",
       "6       Ventas\n",
       "7    Marketing\n",
       "8       Ventas\n",
       "Name: Departamento, dtype: category\n",
       "Categories (3, object): ['IT' < 'Ventas' < 'Marketing']"
      ]
     },
     "metadata": {},
     "output_type": "display_data"
    }
   ],
   "source": [
    "#Ordenar las categorías\n",
    "df['Departamento'] = df['Departamento'].cat.reorder_categories(['IT', 'Ventas', 'Marketing'], ordered=True)\n",
    "display(df['Departamento'])"
   ]
  },
  {
   "cell_type": "code",
   "execution_count": null,
   "id": "65b0cf84",
   "metadata": {},
   "outputs": [
    {
     "data": {
      "text/html": [
       "<div>\n",
       "<style scoped>\n",
       "    .dataframe tbody tr th:only-of-type {\n",
       "        vertical-align: middle;\n",
       "    }\n",
       "\n",
       "    .dataframe tbody tr th {\n",
       "        vertical-align: top;\n",
       "    }\n",
       "\n",
       "    .dataframe thead th {\n",
       "        text-align: right;\n",
       "    }\n",
       "</style>\n",
       "<table border=\"1\" class=\"dataframe\">\n",
       "  <thead>\n",
       "    <tr style=\"text-align: right;\">\n",
       "      <th></th>\n",
       "      <th>Empleado</th>\n",
       "      <th>Departamento</th>\n",
       "      <th>Salario</th>\n",
       "      <th>Años_Experiencia</th>\n",
       "      <th>Ciudad</th>\n",
       "    </tr>\n",
       "  </thead>\n",
       "  <tbody>\n",
       "    <tr>\n",
       "      <th>0</th>\n",
       "      <td>Juan</td>\n",
       "      <td>Ventas</td>\n",
       "      <td>50000</td>\n",
       "      <td>5</td>\n",
       "      <td>Madrid</td>\n",
       "    </tr>\n",
       "    <tr>\n",
       "      <th>1</th>\n",
       "      <td>Ana</td>\n",
       "      <td>Marketing</td>\n",
       "      <td>60000</td>\n",
       "      <td>7</td>\n",
       "      <td>Barcelona</td>\n",
       "    </tr>\n",
       "    <tr>\n",
       "      <th>2</th>\n",
       "      <td>Pedro</td>\n",
       "      <td>Ventas</td>\n",
       "      <td>55000</td>\n",
       "      <td>6</td>\n",
       "      <td>Madrid</td>\n",
       "    </tr>\n",
       "    <tr>\n",
       "      <th>3</th>\n",
       "      <td>Luis</td>\n",
       "      <td>IT</td>\n",
       "      <td>58000</td>\n",
       "      <td>8</td>\n",
       "      <td>Sevilla</td>\n",
       "    </tr>\n",
       "    <tr>\n",
       "      <th>4</th>\n",
       "      <td>Maria</td>\n",
       "      <td>Marketing</td>\n",
       "      <td>62000</td>\n",
       "      <td>9</td>\n",
       "      <td>Barcelona</td>\n",
       "    </tr>\n",
       "    <tr>\n",
       "      <th>5</th>\n",
       "      <td>Ana</td>\n",
       "      <td>IT</td>\n",
       "      <td>60000</td>\n",
       "      <td>7</td>\n",
       "      <td>Sevilla</td>\n",
       "    </tr>\n",
       "    <tr>\n",
       "      <th>6</th>\n",
       "      <td>Pedro</td>\n",
       "      <td>Ventas</td>\n",
       "      <td>55000</td>\n",
       "      <td>6</td>\n",
       "      <td>Madrid</td>\n",
       "    </tr>\n",
       "    <tr>\n",
       "      <th>7</th>\n",
       "      <td>Luis</td>\n",
       "      <td>Marketing</td>\n",
       "      <td>58000</td>\n",
       "      <td>8</td>\n",
       "      <td>Barcelona</td>\n",
       "    </tr>\n",
       "    <tr>\n",
       "      <th>8</th>\n",
       "      <td>Maria</td>\n",
       "      <td>Ventas</td>\n",
       "      <td>62000</td>\n",
       "      <td>9</td>\n",
       "      <td>Sevilla</td>\n",
       "    </tr>\n",
       "    <tr>\n",
       "      <th>9</th>\n",
       "      <td>Sofia</td>\n",
       "      <td>RRHH</td>\n",
       "      <td>48000</td>\n",
       "      <td>4</td>\n",
       "      <td>Madrid</td>\n",
       "    </tr>\n",
       "  </tbody>\n",
       "</table>\n",
       "</div>"
      ],
      "text/plain": [
       "  Empleado Departamento  Salario  Años_Experiencia     Ciudad\n",
       "0     Juan       Ventas    50000                 5     Madrid\n",
       "1      Ana    Marketing    60000                 7  Barcelona\n",
       "2    Pedro       Ventas    55000                 6     Madrid\n",
       "3     Luis           IT    58000                 8    Sevilla\n",
       "4    Maria    Marketing    62000                 9  Barcelona\n",
       "5      Ana           IT    60000                 7    Sevilla\n",
       "6    Pedro       Ventas    55000                 6     Madrid\n",
       "7     Luis    Marketing    58000                 8  Barcelona\n",
       "8    Maria       Ventas    62000                 9    Sevilla\n",
       "9    Sofia         RRHH    48000                 4     Madrid"
      ]
     },
     "metadata": {},
     "output_type": "display_data"
    }
   ],
   "source": [
    "#Agregar una nueva categoría y un nuevo empleado\n",
    "df['Departamento'] = df['Departamento'].cat.add_categories(['RRHH'])\n",
    "df.loc[len(df)] = ['Sofia', 'RRHH', 48000, 4, 'Madrid']\n",
    "display(df)"
   ]
  },
  {
   "cell_type": "code",
   "execution_count": 19,
   "id": "d3bf484c",
   "metadata": {},
   "outputs": [
    {
     "data": {
      "text/plain": [
       "0       Ventas\n",
       "1    Marketing\n",
       "2       Ventas\n",
       "3           IT\n",
       "4    Marketing\n",
       "5           IT\n",
       "6       Ventas\n",
       "7    Marketing\n",
       "8       Ventas\n",
       "9         RRHH\n",
       "Name: Departamento, dtype: category\n",
       "Categories (4, object): ['IT', 'Marketing', 'RRHH', 'Ventas']"
      ]
     },
     "execution_count": 19,
     "metadata": {},
     "output_type": "execute_result"
    }
   ],
   "source": [
    "df['Departamento'] = df['Departamento'].astype('category')\n",
    "df['Departamento']"
   ]
  },
  {
   "cell_type": "code",
   "execution_count": 20,
   "id": "7f9bb3a7",
   "metadata": {},
   "outputs": [
    {
     "data": {
      "text/plain": [
       "Index(['IT', 'Marketing', 'RRHH', 'Ventas'], dtype='object')"
      ]
     },
     "execution_count": 20,
     "metadata": {},
     "output_type": "execute_result"
    }
   ],
   "source": [
    "df['Departamento'].cat.categories"
   ]
  },
  {
   "cell_type": "code",
   "execution_count": 21,
   "id": "bb712287",
   "metadata": {},
   "outputs": [],
   "source": [
    "#Eliminar una categoría\n",
    "df['Departamento'] = df['Departamento'].cat.remove_categories(['RRHH'])"
   ]
  },
  {
   "cell_type": "code",
   "execution_count": 22,
   "id": "a6d8a70d",
   "metadata": {},
   "outputs": [
    {
     "data": {
      "text/html": [
       "<div>\n",
       "<style scoped>\n",
       "    .dataframe tbody tr th:only-of-type {\n",
       "        vertical-align: middle;\n",
       "    }\n",
       "\n",
       "    .dataframe tbody tr th {\n",
       "        vertical-align: top;\n",
       "    }\n",
       "\n",
       "    .dataframe thead th {\n",
       "        text-align: right;\n",
       "    }\n",
       "</style>\n",
       "<table border=\"1\" class=\"dataframe\">\n",
       "  <thead>\n",
       "    <tr style=\"text-align: right;\">\n",
       "      <th></th>\n",
       "      <th>Empleado</th>\n",
       "      <th>Departamento</th>\n",
       "      <th>Salario</th>\n",
       "      <th>Años_Experiencia</th>\n",
       "      <th>Ciudad</th>\n",
       "    </tr>\n",
       "  </thead>\n",
       "  <tbody>\n",
       "    <tr>\n",
       "      <th>0</th>\n",
       "      <td>Juan</td>\n",
       "      <td>Ventas</td>\n",
       "      <td>50000</td>\n",
       "      <td>5</td>\n",
       "      <td>Madrid</td>\n",
       "    </tr>\n",
       "    <tr>\n",
       "      <th>1</th>\n",
       "      <td>Ana</td>\n",
       "      <td>Marketing</td>\n",
       "      <td>60000</td>\n",
       "      <td>7</td>\n",
       "      <td>Barcelona</td>\n",
       "    </tr>\n",
       "    <tr>\n",
       "      <th>2</th>\n",
       "      <td>Pedro</td>\n",
       "      <td>Ventas</td>\n",
       "      <td>55000</td>\n",
       "      <td>6</td>\n",
       "      <td>Madrid</td>\n",
       "    </tr>\n",
       "    <tr>\n",
       "      <th>3</th>\n",
       "      <td>Luis</td>\n",
       "      <td>IT</td>\n",
       "      <td>58000</td>\n",
       "      <td>8</td>\n",
       "      <td>Sevilla</td>\n",
       "    </tr>\n",
       "    <tr>\n",
       "      <th>4</th>\n",
       "      <td>Maria</td>\n",
       "      <td>Marketing</td>\n",
       "      <td>62000</td>\n",
       "      <td>9</td>\n",
       "      <td>Barcelona</td>\n",
       "    </tr>\n",
       "    <tr>\n",
       "      <th>5</th>\n",
       "      <td>Ana</td>\n",
       "      <td>IT</td>\n",
       "      <td>60000</td>\n",
       "      <td>7</td>\n",
       "      <td>Sevilla</td>\n",
       "    </tr>\n",
       "    <tr>\n",
       "      <th>6</th>\n",
       "      <td>Pedro</td>\n",
       "      <td>Ventas</td>\n",
       "      <td>55000</td>\n",
       "      <td>6</td>\n",
       "      <td>Madrid</td>\n",
       "    </tr>\n",
       "    <tr>\n",
       "      <th>7</th>\n",
       "      <td>Luis</td>\n",
       "      <td>Marketing</td>\n",
       "      <td>58000</td>\n",
       "      <td>8</td>\n",
       "      <td>Barcelona</td>\n",
       "    </tr>\n",
       "    <tr>\n",
       "      <th>8</th>\n",
       "      <td>Maria</td>\n",
       "      <td>Ventas</td>\n",
       "      <td>62000</td>\n",
       "      <td>9</td>\n",
       "      <td>Sevilla</td>\n",
       "    </tr>\n",
       "    <tr>\n",
       "      <th>9</th>\n",
       "      <td>Sofia</td>\n",
       "      <td>NaN</td>\n",
       "      <td>48000</td>\n",
       "      <td>4</td>\n",
       "      <td>Madrid</td>\n",
       "    </tr>\n",
       "  </tbody>\n",
       "</table>\n",
       "</div>"
      ],
      "text/plain": [
       "  Empleado Departamento  Salario  Años_Experiencia     Ciudad\n",
       "0     Juan       Ventas    50000                 5     Madrid\n",
       "1      Ana    Marketing    60000                 7  Barcelona\n",
       "2    Pedro       Ventas    55000                 6     Madrid\n",
       "3     Luis           IT    58000                 8    Sevilla\n",
       "4    Maria    Marketing    62000                 9  Barcelona\n",
       "5      Ana           IT    60000                 7    Sevilla\n",
       "6    Pedro       Ventas    55000                 6     Madrid\n",
       "7     Luis    Marketing    58000                 8  Barcelona\n",
       "8    Maria       Ventas    62000                 9    Sevilla\n",
       "9    Sofia          NaN    48000                 4     Madrid"
      ]
     },
     "execution_count": 22,
     "metadata": {},
     "output_type": "execute_result"
    }
   ],
   "source": [
    "df "
   ]
  },
  {
   "cell_type": "code",
   "execution_count": 26,
   "id": "c706f75d",
   "metadata": {},
   "outputs": [
    {
     "data": {
      "text/html": [
       "<div>\n",
       "<style scoped>\n",
       "    .dataframe tbody tr th:only-of-type {\n",
       "        vertical-align: middle;\n",
       "    }\n",
       "\n",
       "    .dataframe tbody tr th {\n",
       "        vertical-align: top;\n",
       "    }\n",
       "\n",
       "    .dataframe thead th {\n",
       "        text-align: right;\n",
       "    }\n",
       "</style>\n",
       "<table border=\"1\" class=\"dataframe\">\n",
       "  <thead>\n",
       "    <tr style=\"text-align: right;\">\n",
       "      <th></th>\n",
       "      <th>Dept_IT</th>\n",
       "      <th>Dept_Marketing</th>\n",
       "      <th>Dept_Ventas</th>\n",
       "    </tr>\n",
       "  </thead>\n",
       "  <tbody>\n",
       "    <tr>\n",
       "      <th>0</th>\n",
       "      <td>0</td>\n",
       "      <td>0</td>\n",
       "      <td>1</td>\n",
       "    </tr>\n",
       "    <tr>\n",
       "      <th>1</th>\n",
       "      <td>0</td>\n",
       "      <td>1</td>\n",
       "      <td>0</td>\n",
       "    </tr>\n",
       "    <tr>\n",
       "      <th>2</th>\n",
       "      <td>0</td>\n",
       "      <td>0</td>\n",
       "      <td>1</td>\n",
       "    </tr>\n",
       "    <tr>\n",
       "      <th>3</th>\n",
       "      <td>1</td>\n",
       "      <td>0</td>\n",
       "      <td>0</td>\n",
       "    </tr>\n",
       "    <tr>\n",
       "      <th>4</th>\n",
       "      <td>0</td>\n",
       "      <td>1</td>\n",
       "      <td>0</td>\n",
       "    </tr>\n",
       "    <tr>\n",
       "      <th>5</th>\n",
       "      <td>1</td>\n",
       "      <td>0</td>\n",
       "      <td>0</td>\n",
       "    </tr>\n",
       "    <tr>\n",
       "      <th>6</th>\n",
       "      <td>0</td>\n",
       "      <td>0</td>\n",
       "      <td>1</td>\n",
       "    </tr>\n",
       "    <tr>\n",
       "      <th>7</th>\n",
       "      <td>0</td>\n",
       "      <td>1</td>\n",
       "      <td>0</td>\n",
       "    </tr>\n",
       "    <tr>\n",
       "      <th>8</th>\n",
       "      <td>0</td>\n",
       "      <td>0</td>\n",
       "      <td>1</td>\n",
       "    </tr>\n",
       "    <tr>\n",
       "      <th>9</th>\n",
       "      <td>0</td>\n",
       "      <td>0</td>\n",
       "      <td>0</td>\n",
       "    </tr>\n",
       "  </tbody>\n",
       "</table>\n",
       "</div>"
      ],
      "text/plain": [
       "   Dept_IT  Dept_Marketing  Dept_Ventas\n",
       "0        0               0            1\n",
       "1        0               1            0\n",
       "2        0               0            1\n",
       "3        1               0            0\n",
       "4        0               1            0\n",
       "5        1               0            0\n",
       "6        0               0            1\n",
       "7        0               1            0\n",
       "8        0               0            1\n",
       "9        0               0            0"
      ]
     },
     "metadata": {},
     "output_type": "display_data"
    }
   ],
   "source": [
    "#Codificacion won-hot\n",
    "df_encoded = pd.get_dummies(df['Departamento'], prefix='Dept').astype(int)\n",
    "display(df_encoded)"
   ]
  },
  {
   "cell_type": "code",
   "execution_count": 27,
   "id": "758cb843",
   "metadata": {},
   "outputs": [
    {
     "name": "stderr",
     "output_type": "stream",
     "text": [
      "C:\\Users\\Admin\\AppData\\Local\\Temp\\ipykernel_28756\\2756629553.py:2: FutureWarning: The default of observed=False is deprecated and will be changed to True in a future version of pandas. Pass observed=False to retain current behavior or observed=True to adopt the future default and silence this warning.\n",
      "  df_grouped = df.groupby('Departamento')['Salario'].sum()\n"
     ]
    },
    {
     "data": {
      "text/plain": [
       "Departamento\n",
       "IT           118000\n",
       "Marketing    180000\n",
       "Ventas       222000\n",
       "Name: Salario, dtype: int64"
      ]
     },
     "metadata": {},
     "output_type": "display_data"
    }
   ],
   "source": [
    "#Agrupar por categoría\n",
    "df_grouped = df.groupby('Departamento')['Salario'].sum()\n",
    "display(df_grouped)"
   ]
  },
  {
   "cell_type": "code",
   "execution_count": null,
   "id": "42d147b5",
   "metadata": {},
   "outputs": [],
   "source": []
  }
 ],
 "metadata": {
  "kernelspec": {
   "display_name": "venv",
   "language": "python",
   "name": "python3"
  },
  "language_info": {
   "codemirror_mode": {
    "name": "ipython",
    "version": 3
   },
   "file_extension": ".py",
   "mimetype": "text/x-python",
   "name": "python",
   "nbconvert_exporter": "python",
   "pygments_lexer": "ipython3",
   "version": "3.13.0"
  }
 },
 "nbformat": 4,
 "nbformat_minor": 5
}
