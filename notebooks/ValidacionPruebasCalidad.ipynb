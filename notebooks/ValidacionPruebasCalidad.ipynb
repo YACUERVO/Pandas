{
 "cells": [
  {
   "cell_type": "code",
   "execution_count": 33,
   "id": "4d41970b",
   "metadata": {},
   "outputs": [],
   "source": [
    "import pandas as pd"
   ]
  },
  {
   "cell_type": "code",
   "execution_count": 34,
   "id": "1863ad0a",
   "metadata": {},
   "outputs": [
    {
     "data": {
      "text/html": [
       "<div>\n",
       "<style scoped>\n",
       "    .dataframe tbody tr th:only-of-type {\n",
       "        vertical-align: middle;\n",
       "    }\n",
       "\n",
       "    .dataframe tbody tr th {\n",
       "        vertical-align: top;\n",
       "    }\n",
       "\n",
       "    .dataframe thead th {\n",
       "        text-align: right;\n",
       "    }\n",
       "</style>\n",
       "<table border=\"1\" class=\"dataframe\">\n",
       "  <thead>\n",
       "    <tr style=\"text-align: right;\">\n",
       "      <th></th>\n",
       "      <th>Producto</th>\n",
       "      <th>Ventas</th>\n",
       "      <th>Precio</th>\n",
       "    </tr>\n",
       "  </thead>\n",
       "  <tbody>\n",
       "    <tr>\n",
       "      <th>0</th>\n",
       "      <td>A</td>\n",
       "      <td>100.0</td>\n",
       "      <td>10.2</td>\n",
       "    </tr>\n",
       "    <tr>\n",
       "      <th>1</th>\n",
       "      <td>B</td>\n",
       "      <td>NaN</td>\n",
       "      <td>15.5</td>\n",
       "    </tr>\n",
       "    <tr>\n",
       "      <th>2</th>\n",
       "      <td>C</td>\n",
       "      <td>200.0</td>\n",
       "      <td>20.5</td>\n",
       "    </tr>\n",
       "    <tr>\n",
       "      <th>3</th>\n",
       "      <td>D</td>\n",
       "      <td>250.0</td>\n",
       "      <td>NaN</td>\n",
       "    </tr>\n",
       "    <tr>\n",
       "      <th>4</th>\n",
       "      <td>E</td>\n",
       "      <td>700.0</td>\n",
       "      <td>20.6</td>\n",
       "    </tr>\n",
       "  </tbody>\n",
       "</table>\n",
       "</div>"
      ],
      "text/plain": [
       "  Producto  Ventas  Precio\n",
       "0        A   100.0    10.2\n",
       "1        B     NaN    15.5\n",
       "2        C   200.0    20.5\n",
       "3        D   250.0     NaN\n",
       "4        E   700.0    20.6"
      ]
     },
     "metadata": {},
     "output_type": "display_data"
    }
   ],
   "source": [
    "data = {\n",
    "    'Producto': ['A', 'B', 'C', 'D','E'],\n",
    "    'Ventas': [100, None, 200, 250,700],\n",
    "    'Precio': [10.2, 15.5, 20.5, None,20.6]\n",
    "}\n",
    "df = pd.DataFrame(data)\n",
    "display(df)"
   ]
  },
  {
   "cell_type": "code",
   "execution_count": 35,
   "id": "6313e5e5",
   "metadata": {},
   "outputs": [
    {
     "name": "stdout",
     "output_type": "stream",
     "text": [
      "Valores nulos por columna:\n",
      "2\n",
      "Producto    0\n",
      "Ventas      1\n",
      "Precio      1\n",
      "dtype: int64\n",
      "\n",
      "Otra forma de verificar valores nulos en el DataFrame:\n",
      "2\n"
     ]
    },
    {
     "data": {
      "text/plain": [
       "Producto    0\n",
       "Ventas      1\n",
       "Precio      1\n",
       "dtype: int64"
      ]
     },
     "execution_count": 35,
     "metadata": {},
     "output_type": "execute_result"
    }
   ],
   "source": [
    "#Veriricar valores nulos\n",
    "print(\"Valores nulos por columna:\")\n",
    "print(df.isnull().sum().sum())\n",
    "print(df.isnull().sum())\n",
    "\n",
    "print(\"\\nOtra forma de verificar valores nulos en el DataFrame:\")\n",
    "print(df.isnull().sum().sum())\n",
    "df.isna().sum()  # Otra forma de verificar valores nulos"
   ]
  },
  {
   "cell_type": "code",
   "execution_count": 36,
   "id": "6959a800",
   "metadata": {},
   "outputs": [
    {
     "data": {
      "text/html": [
       "<div>\n",
       "<style scoped>\n",
       "    .dataframe tbody tr th:only-of-type {\n",
       "        vertical-align: middle;\n",
       "    }\n",
       "\n",
       "    .dataframe tbody tr th {\n",
       "        vertical-align: top;\n",
       "    }\n",
       "\n",
       "    .dataframe thead th {\n",
       "        text-align: right;\n",
       "    }\n",
       "</style>\n",
       "<table border=\"1\" class=\"dataframe\">\n",
       "  <thead>\n",
       "    <tr style=\"text-align: right;\">\n",
       "      <th></th>\n",
       "      <th>Producto</th>\n",
       "      <th>Ventas</th>\n",
       "      <th>Precio</th>\n",
       "    </tr>\n",
       "  </thead>\n",
       "  <tbody>\n",
       "    <tr>\n",
       "      <th>0</th>\n",
       "      <td>A</td>\n",
       "      <td>100</td>\n",
       "      <td>10.2</td>\n",
       "    </tr>\n",
       "    <tr>\n",
       "      <th>1</th>\n",
       "      <td>B</td>\n",
       "      <td>150</td>\n",
       "      <td>15.5</td>\n",
       "    </tr>\n",
       "    <tr>\n",
       "      <th>2</th>\n",
       "      <td>C</td>\n",
       "      <td>200</td>\n",
       "      <td>20.5</td>\n",
       "    </tr>\n",
       "    <tr>\n",
       "      <th>3</th>\n",
       "      <td>A</td>\n",
       "      <td>100</td>\n",
       "      <td>10.2</td>\n",
       "    </tr>\n",
       "  </tbody>\n",
       "</table>\n",
       "</div>"
      ],
      "text/plain": [
       "  Producto  Ventas  Precio\n",
       "0        A     100    10.2\n",
       "1        B     150    15.5\n",
       "2        C     200    20.5\n",
       "3        A     100    10.2"
      ]
     },
     "metadata": {},
     "output_type": "display_data"
    }
   ],
   "source": [
    "#Verificar datos duplicados\n",
    "\n",
    "data_duplicados = {\n",
    "    'Producto': ['A', 'B', 'C', 'A'],\n",
    "    'Ventas': [100, 150, 200, 100],\n",
    "    'Precio': [10.2, 15.5, 20.5, 10.2]\n",
    "}\n",
    "df_duplicados = pd.DataFrame(data_duplicados)\n",
    "display(df_duplicados)"
   ]
  },
  {
   "cell_type": "code",
   "execution_count": 37,
   "id": "a5b63296",
   "metadata": {},
   "outputs": [
    {
     "name": "stdout",
     "output_type": "stream",
     "text": [
      "Número de filas duplicadas: 1\n",
      "Número de filas únicas: Producto    3\n",
      "Ventas      3\n",
      "Precio      3\n",
      "dtype: int64\n",
      "Número total de filas: 4\n",
      "DataFrame sin duplicados:\n"
     ]
    },
    {
     "data": {
      "text/html": [
       "<div>\n",
       "<style scoped>\n",
       "    .dataframe tbody tr th:only-of-type {\n",
       "        vertical-align: middle;\n",
       "    }\n",
       "\n",
       "    .dataframe tbody tr th {\n",
       "        vertical-align: top;\n",
       "    }\n",
       "\n",
       "    .dataframe thead th {\n",
       "        text-align: right;\n",
       "    }\n",
       "</style>\n",
       "<table border=\"1\" class=\"dataframe\">\n",
       "  <thead>\n",
       "    <tr style=\"text-align: right;\">\n",
       "      <th></th>\n",
       "      <th>Producto</th>\n",
       "      <th>Ventas</th>\n",
       "      <th>Precio</th>\n",
       "    </tr>\n",
       "  </thead>\n",
       "  <tbody>\n",
       "    <tr>\n",
       "      <th>0</th>\n",
       "      <td>A</td>\n",
       "      <td>100</td>\n",
       "      <td>10.2</td>\n",
       "    </tr>\n",
       "    <tr>\n",
       "      <th>1</th>\n",
       "      <td>B</td>\n",
       "      <td>150</td>\n",
       "      <td>15.5</td>\n",
       "    </tr>\n",
       "    <tr>\n",
       "      <th>2</th>\n",
       "      <td>C</td>\n",
       "      <td>200</td>\n",
       "      <td>20.5</td>\n",
       "    </tr>\n",
       "  </tbody>\n",
       "</table>\n",
       "</div>"
      ],
      "text/plain": [
       "  Producto  Ventas  Precio\n",
       "0        A     100    10.2\n",
       "1        B     150    15.5\n",
       "2        C     200    20.5"
      ]
     },
     "metadata": {},
     "output_type": "display_data"
    }
   ],
   "source": [
    "print(\"Número de filas duplicadas:\", df_duplicados.duplicated().sum())\n",
    "print(\"Número de filas únicas:\", df_duplicados.nunique())\n",
    "print(\"Número total de filas:\", len(df_duplicados))\n",
    "print(\"DataFrame sin duplicados:\")\n",
    "df_sin_duplicados = df_duplicados.drop_duplicates()\n",
    "display(df_sin_duplicados)\n",
    "\n"
   ]
  },
  {
   "cell_type": "code",
   "execution_count": 38,
   "id": "5fc60a3d",
   "metadata": {},
   "outputs": [
    {
     "name": "stdout",
     "output_type": "stream",
     "text": [
      "Ventas válidas (entre 0 y 500): \n",
      " 0    100.0\n",
      "2    200.0\n",
      "3    250.0\n",
      "Name: Ventas, dtype: float64\n",
      "Ventas válidas (entre 0 y 500) usando otro método: \n",
      " 0    100.0\n",
      "2    200.0\n",
      "3    250.0\n",
      "Name: Ventas, dtype: float64\n"
     ]
    }
   ],
   "source": [
    "#Validar datos que esten entre ventas 0 y 500\n",
    "ventas_validas_1  = df[df['Ventas'].between(0, 500)]\n",
    "ventas_validas_2 = df[(df['Ventas'] >= 0) & (df['Ventas'] <= 500)]\n",
    "\n",
    "print(\"Ventas válidas (entre 0 y 500): \\n\",ventas_validas_1['Ventas'])\n",
    "print(\"Ventas válidas (entre 0 y 500) usando otro método: \\n\",ventas_validas_2['Ventas'])\n"
   ]
  },
  {
   "cell_type": "code",
   "execution_count": 39,
   "id": "b2160d3e",
   "metadata": {},
   "outputs": [
    {
     "name": "stdout",
     "output_type": "stream",
     "text": [
      "Ventas fuera del rango (0-500): \n",
      "   Producto  Ventas  Precio\n",
      "1        B     NaN    15.5\n",
      "4        E   700.0    20.6\n"
     ]
    }
   ],
   "source": [
    "#Para usar la negación ~ y filtrar, necesitas una Serie booleana (True/False para cada fila).\n",
    "mascara = df['Ventas'].between(0, 500)\n",
    "ventas_fuera_de_rango = df[~mascara]\n",
    "print(\"Ventas fuera del rango (0-500): \\n\", ventas_fuera_de_rango)"
   ]
  },
  {
   "cell_type": "code",
   "execution_count": 40,
   "id": "ff7da1eb",
   "metadata": {},
   "outputs": [
    {
     "data": {
      "text/html": [
       "<div>\n",
       "<style scoped>\n",
       "    .dataframe tbody tr th:only-of-type {\n",
       "        vertical-align: middle;\n",
       "    }\n",
       "\n",
       "    .dataframe tbody tr th {\n",
       "        vertical-align: top;\n",
       "    }\n",
       "\n",
       "    .dataframe thead th {\n",
       "        text-align: right;\n",
       "    }\n",
       "</style>\n",
       "<table border=\"1\" class=\"dataframe\">\n",
       "  <thead>\n",
       "    <tr style=\"text-align: right;\">\n",
       "      <th></th>\n",
       "      <th>Producto</th>\n",
       "      <th>Fecha</th>\n",
       "    </tr>\n",
       "  </thead>\n",
       "  <tbody>\n",
       "    <tr>\n",
       "      <th>0</th>\n",
       "      <td>A</td>\n",
       "      <td>2023-01-01</td>\n",
       "    </tr>\n",
       "    <tr>\n",
       "      <th>1</th>\n",
       "      <td>B</td>\n",
       "      <td>2023-02-30</td>\n",
       "    </tr>\n",
       "    <tr>\n",
       "      <th>2</th>\n",
       "      <td>C</td>\n",
       "      <td>2023-03-15</td>\n",
       "    </tr>\n",
       "    <tr>\n",
       "      <th>3</th>\n",
       "      <td>D</td>\n",
       "      <td>2023-04-10</td>\n",
       "    </tr>\n",
       "  </tbody>\n",
       "</table>\n",
       "</div>"
      ],
      "text/plain": [
       "  Producto       Fecha\n",
       "0        A  2023-01-01\n",
       "1        B  2023-02-30\n",
       "2        C  2023-03-15\n",
       "3        D  2023-04-10"
      ]
     },
     "metadata": {},
     "output_type": "display_data"
    }
   ],
   "source": [
    "#Validar que tenga un formato valido en este ejemplo seria fecha\n",
    "data_fecha = {\n",
    "    'Producto': ['A', 'B', 'C', 'D'],\n",
    "    'Fecha': ['2023-01-01', '2023-02-30', '2023-03-15', '2023-04-10']  # 2023-02-30 es una fecha inválida \n",
    "}\n",
    "df_fecha = pd.DataFrame(data_fecha)  \n",
    "display(df_fecha)"
   ]
  },
  {
   "cell_type": "code",
   "execution_count": 41,
   "id": "05ede476",
   "metadata": {},
   "outputs": [
    {
     "name": "stdout",
     "output_type": "stream",
     "text": [
      "Fechas inválidas:\n",
      "   Producto Fecha\n",
      "1        B   NaT\n"
     ]
    }
   ],
   "source": [
    "#Convertir la columna 'Fecha' a tipo datetime, forzando errores a NaT\n",
    "df_fecha['Fecha'] = pd.to_datetime(df_fecha['Fecha'], errors='coerce')\n",
    "fechas_invalidad = df_fecha[df_fecha['Fecha'].isna()]\n",
    "print(\"Fechas inválidas:\\n\", fechas_invalidad)\n"
   ]
  },
  {
   "cell_type": "code",
   "execution_count": 48,
   "id": "9ab4d4c4",
   "metadata": {},
   "outputs": [
    {
     "data": {
      "text/html": [
       "<div>\n",
       "<style scoped>\n",
       "    .dataframe tbody tr th:only-of-type {\n",
       "        vertical-align: middle;\n",
       "    }\n",
       "\n",
       "    .dataframe tbody tr th {\n",
       "        vertical-align: top;\n",
       "    }\n",
       "\n",
       "    .dataframe thead th {\n",
       "        text-align: right;\n",
       "    }\n",
       "</style>\n",
       "<table border=\"1\" class=\"dataframe\">\n",
       "  <thead>\n",
       "    <tr style=\"text-align: right;\">\n",
       "      <th></th>\n",
       "      <th>Producto</th>\n",
       "      <th>Ventas</th>\n",
       "      <th>Precio</th>\n",
       "    </tr>\n",
       "  </thead>\n",
       "  <tbody>\n",
       "    <tr>\n",
       "      <th>0</th>\n",
       "      <td>A</td>\n",
       "      <td>100.0</td>\n",
       "      <td>10.2</td>\n",
       "    </tr>\n",
       "    <tr>\n",
       "      <th>1</th>\n",
       "      <td>B</td>\n",
       "      <td>NaN</td>\n",
       "      <td>15.5</td>\n",
       "    </tr>\n",
       "    <tr>\n",
       "      <th>2</th>\n",
       "      <td>C</td>\n",
       "      <td>200.0</td>\n",
       "      <td>20.5</td>\n",
       "    </tr>\n",
       "    <tr>\n",
       "      <th>3</th>\n",
       "      <td>D</td>\n",
       "      <td>250.0</td>\n",
       "      <td>NaN</td>\n",
       "    </tr>\n",
       "    <tr>\n",
       "      <th>4</th>\n",
       "      <td>E</td>\n",
       "      <td>700.0</td>\n",
       "      <td>20.6</td>\n",
       "    </tr>\n",
       "  </tbody>\n",
       "</table>\n",
       "</div>"
      ],
      "text/plain": [
       "  Producto  Ventas  Precio\n",
       "0        A   100.0    10.2\n",
       "1        B     NaN    15.5\n",
       "2        C   200.0    20.5\n",
       "3        D   250.0     NaN\n",
       "4        E   700.0    20.6"
      ]
     },
     "metadata": {},
     "output_type": "display_data"
    }
   ],
   "source": [
    "data = {\n",
    "    'Producto': ['A', 'B', 'C', 'D','E'],\n",
    "    'Ventas': [-100, None, -200, 250,700],\n",
    "    'Precio': [10.2, 15.5, 20.5, None,20.6]\n",
    "}\n",
    "df_1 = pd.DataFrame(data)\n",
    "display(df)"
   ]
  },
  {
   "cell_type": "code",
   "execution_count": 49,
   "id": "f70a3949",
   "metadata": {},
   "outputs": [
    {
     "name": "stdout",
     "output_type": "stream",
     "text": [
      "Existen ventas negativas\n"
     ]
    }
   ],
   "source": [
    "#Pruebas de calidad personalizadas\n",
    "#Ejemplo que no alla productos con ventas negativas\n",
    "\n",
    "def velidar_ventas_negativas(df):\n",
    "    if (df['Ventas'] < 0).any():\n",
    "        print('Existen ventas negativas')\n",
    "    else:\n",
    "        print('No hay ventas negativas')\n",
    "        \n",
    "velidar_ventas_negativas(df_1 )"
   ]
  },
  {
   "cell_type": "code",
   "execution_count": 50,
   "id": "c3146d3a",
   "metadata": {},
   "outputs": [
    {
     "name": "stdout",
     "output_type": "stream",
     "text": [
      "Filas con ventas negativas:\n"
     ]
    },
    {
     "data": {
      "text/html": [
       "<div>\n",
       "<style scoped>\n",
       "    .dataframe tbody tr th:only-of-type {\n",
       "        vertical-align: middle;\n",
       "    }\n",
       "\n",
       "    .dataframe tbody tr th {\n",
       "        vertical-align: top;\n",
       "    }\n",
       "\n",
       "    .dataframe thead th {\n",
       "        text-align: right;\n",
       "    }\n",
       "</style>\n",
       "<table border=\"1\" class=\"dataframe\">\n",
       "  <thead>\n",
       "    <tr style=\"text-align: right;\">\n",
       "      <th></th>\n",
       "      <th>Producto</th>\n",
       "      <th>Ventas</th>\n",
       "      <th>Precio</th>\n",
       "    </tr>\n",
       "  </thead>\n",
       "  <tbody>\n",
       "    <tr>\n",
       "      <th>0</th>\n",
       "      <td>A</td>\n",
       "      <td>-100.0</td>\n",
       "      <td>10.2</td>\n",
       "    </tr>\n",
       "    <tr>\n",
       "      <th>2</th>\n",
       "      <td>C</td>\n",
       "      <td>-200.0</td>\n",
       "      <td>20.5</td>\n",
       "    </tr>\n",
       "  </tbody>\n",
       "</table>\n",
       "</div>"
      ],
      "text/plain": [
       "  Producto  Ventas  Precio\n",
       "0        A  -100.0    10.2\n",
       "2        C  -200.0    20.5"
      ]
     },
     "metadata": {},
     "output_type": "display_data"
    }
   ],
   "source": [
    "def mostrar_ventas_negativas(df):\n",
    "    ventas_negativas = df[df['Ventas'] < 0]\n",
    "    if not ventas_negativas.empty:\n",
    "        print(\"Filas con ventas negativas:\")\n",
    "        display(ventas_negativas)\n",
    "    else:\n",
    "        print(\"No hay ventas negativas\")\n",
    "\n",
    "# Uso:\n",
    "mostrar_ventas_negativas(df_1)"
   ]
  },
  {
   "cell_type": "code",
   "execution_count": null,
   "id": "484a6f16",
   "metadata": {},
   "outputs": [
    {
     "ename": "AssertionError",
     "evalue": "hay valores faltantes en la columna Ventas",
     "output_type": "error",
     "traceback": [
      "\u001b[31m---------------------------------------------------------------------------\u001b[39m",
      "\u001b[31mAssertionError\u001b[39m                            Traceback (most recent call last)",
      "\u001b[36mCell\u001b[39m\u001b[36m \u001b[39m\u001b[32mIn[51]\u001b[39m\u001b[32m, line 2\u001b[39m\n\u001b[32m      1\u001b[39m \u001b[38;5;66;03m# Funcion assert para validaciones\u001b[39;00m\n\u001b[32m----> \u001b[39m\u001b[32m2\u001b[39m \u001b[38;5;28;01massert\u001b[39;00m df[\u001b[33m'\u001b[39m\u001b[33mVentas\u001b[39m\u001b[33m'\u001b[39m].notna().all(), \u001b[33m'\u001b[39m\u001b[33mhay valores faltantes en la columna Ventas\u001b[39m\u001b[33m'\u001b[39m\n",
      "\u001b[31mAssertionError\u001b[39m: hay valores faltantes en la columna Ventas"
     ]
    }
   ],
   "source": [
    "# Funcion assert para validaciones\n",
    "# df['Ventas'].notna().all() verifica que no haya valores nulos en la columna Ventas.\n",
    "# Si todos los valores no son nulos, el código sigue normalmente.\n",
    "# Si hay algún valor nulo, se detiene la ejecución y muestra el mensaje: 'hay valores faltantes en la columna Ventas'\n",
    "assert df['Ventas'].notna().all(), 'hay valores faltantes en la columna Ventas'"
   ]
  }
 ],
 "metadata": {
  "kernelspec": {
   "display_name": "venv",
   "language": "python",
   "name": "python3"
  },
  "language_info": {
   "codemirror_mode": {
    "name": "ipython",
    "version": 3
   },
   "file_extension": ".py",
   "mimetype": "text/x-python",
   "name": "python",
   "nbconvert_exporter": "python",
   "pygments_lexer": "ipython3",
   "version": "3.13.0"
  }
 },
 "nbformat": 4,
 "nbformat_minor": 5
}
