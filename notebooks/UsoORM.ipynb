{
 "cells": [
  {
   "cell_type": "code",
   "execution_count": 1,
   "id": "25ccd9df",
   "metadata": {},
   "outputs": [],
   "source": [
    "import pandas as pd\n",
    "from sqlalchemy import create_engine, Column, Integer ,String, Float, ForeignKey\n",
    "#from sqlalchemy.ext.declarative import declarative_base\n",
    "from sqlalchemy.orm import declarative_base, sessionmaker"
   ]
  },
  {
   "cell_type": "code",
   "execution_count": 2,
   "id": "9edf1e83",
   "metadata": {},
   "outputs": [],
   "source": [
    "engine = create_engine('sqlite:///emppleado_orm.db', echo=True)"
   ]
  },
  {
   "cell_type": "code",
   "execution_count": null,
   "id": "879bf357",
   "metadata": {},
   "outputs": [
    {
     "name": "stdout",
     "output_type": "stream",
     "text": [
      "2025-09-19 09:11:13,563 INFO sqlalchemy.engine.Engine BEGIN (implicit)\n",
      "2025-09-19 09:11:13,563 INFO sqlalchemy.engine.Engine COMMIT\n"
     ]
    }
   ],
   "source": [
    "Base = declarative_base()\n"
   ]
  },
  {
   "cell_type": "code",
   "execution_count": 5,
   "id": "56b61c92",
   "metadata": {},
   "outputs": [],
   "source": [
    "#Crear una seccion para intereactuar \n",
    "Seccion = sessionmaker(bind=engine)\n",
    "seccion = Seccion()\n"
   ]
  },
  {
   "cell_type": "code",
   "execution_count": 5,
   "id": "679b9e17",
   "metadata": {},
   "outputs": [],
   "source": [
    "class Empleado(Base):\n",
    "    __tablename__ = 'empleados'\n",
    "    \n",
    "    id = Column(Integer,primary_key=True)\n",
    "    nombre =Column(String)\n",
    "    apellido = Column(String)\n",
    "    edad = Column(Integer)\n",
    "    salario = Column(Float)\n",
    "    departamento = Column(String)\n",
    "    \n",
    "    def __repr__(self):\n",
    "        return f\"<Empleado(nombre-'{self.nombre} ',apellido- {self.apellido}',departamento-' {self.departamento}',edad-'{self.edad},'salario-'{self.salario}\"\n",
    "    "
   ]
  },
  {
   "cell_type": "code",
   "execution_count": 6,
   "id": "760779ed",
   "metadata": {},
   "outputs": [
    {
     "name": "stdout",
     "output_type": "stream",
     "text": [
      "2025-09-19 09:08:54,657 INFO sqlalchemy.engine.Engine BEGIN (implicit)\n",
      "2025-09-19 09:08:54,658 INFO sqlalchemy.engine.Engine PRAGMA main.table_info(\"empleados\")\n",
      "2025-09-19 09:08:54,658 INFO sqlalchemy.engine.Engine [raw sql] ()\n",
      "2025-09-19 09:08:54,659 INFO sqlalchemy.engine.Engine COMMIT\n"
     ]
    }
   ],
   "source": [
    "#Crear la base de datos\n",
    "Base.metadata.create_all(engine)"
   ]
  },
  {
   "cell_type": "code",
   "execution_count": 7,
   "id": "559141ff",
   "metadata": {},
   "outputs": [
    {
     "name": "stdout",
     "output_type": "stream",
     "text": [
      "2025-09-19 09:08:54,665 INFO sqlalchemy.engine.Engine BEGIN (implicit)\n",
      "2025-09-19 09:08:54,667 INFO sqlalchemy.engine.Engine INSERT INTO empleados (nombre, apellido, edad, salario, departamento) VALUES (?, ?, ?, ?, ?)\n",
      "2025-09-19 09:08:54,667 INFO sqlalchemy.engine.Engine [generated in 0.00063s] ('Carlos', 'Mendez', 33, 6200.0, 'IT')\n",
      "2025-09-19 09:08:54,668 INFO sqlalchemy.engine.Engine COMMIT\n"
     ]
    }
   ],
   "source": [
    "#Crear un empleado \n",
    "empleado_1 = Empleado(nombre='Carlos', apellido='Mendez',edad=33,salario=6200,departamento='IT')\n",
    "seccion.add(empleado_1)\n",
    "seccion.commit()"
   ]
  },
  {
   "cell_type": "code",
   "execution_count": 8,
   "id": "6226944b",
   "metadata": {},
   "outputs": [
    {
     "name": "stdout",
     "output_type": "stream",
     "text": [
      "2025-09-19 09:08:54,674 INFO sqlalchemy.engine.Engine BEGIN (implicit)\n",
      "2025-09-19 09:08:54,676 INFO sqlalchemy.engine.Engine SELECT empleados.id AS empleados_id, empleados.nombre AS empleados_nombre, empleados.apellido AS empleados_apellido, empleados.edad AS empleados_edad, empleados.salario AS empleados_salario, empleados.departamento AS empleados_departamento \n",
      "FROM empleados \n",
      "WHERE empleados.departamento = ?\n",
      "2025-09-19 09:08:54,677 INFO sqlalchemy.engine.Engine [generated in 0.00051s] ('IT',)\n",
      "<Empleado(nombre-'Carlos ',apellido- Mendez',departamento-' IT',edad-'33,'salario-'6200.0\n"
     ]
    }
   ],
   "source": [
    "#Buscar un empleado \n",
    "empleados_it = seccion.query(Empleado).filter_by(departamento='IT').all()\n",
    "for empleado in empleados_it:\n",
    "    print(empleado)"
   ]
  },
  {
   "cell_type": "code",
   "execution_count": 9,
   "id": "5fcd231b",
   "metadata": {},
   "outputs": [
    {
     "name": "stdout",
     "output_type": "stream",
     "text": [
      "2025-09-19 09:08:54,682 INFO sqlalchemy.engine.Engine SELECT empleados.id AS empleados_id, empleados.nombre AS empleados_nombre, empleados.apellido AS empleados_apellido, empleados.edad AS empleados_edad, empleados.salario AS empleados_salario, empleados.departamento AS empleados_departamento \n",
      "FROM empleados \n",
      "WHERE empleados.nombre = ?\n",
      " LIMIT ? OFFSET ?\n",
      "2025-09-19 09:08:54,683 INFO sqlalchemy.engine.Engine [generated in 0.00057s] ('Carlos', 1, 0)\n",
      "2025-09-19 09:08:54,685 INFO sqlalchemy.engine.Engine UPDATE empleados SET salario=? WHERE empleados.id = ?\n",
      "2025-09-19 09:08:54,685 INFO sqlalchemy.engine.Engine [generated in 0.00051s] (70000.0, 1)\n",
      "2025-09-19 09:08:54,686 INFO sqlalchemy.engine.Engine COMMIT\n"
     ]
    }
   ],
   "source": [
    "#Actualizar un empleado \n",
    "empleado = seccion.query(Empleado).filter_by(nombre='Carlos').first()\n",
    "empleado.salario = 70000\n",
    "seccion.commit()"
   ]
  },
  {
   "cell_type": "code",
   "execution_count": 10,
   "id": "9769797d",
   "metadata": {},
   "outputs": [
    {
     "name": "stdout",
     "output_type": "stream",
     "text": [
      "2025-09-19 09:08:54,692 INFO sqlalchemy.engine.Engine BEGIN (implicit)\n",
      "2025-09-19 09:08:54,693 INFO sqlalchemy.engine.Engine SELECT empleados.id AS empleados_id, empleados.nombre AS empleados_nombre, empleados.apellido AS empleados_apellido, empleados.edad AS empleados_edad, empleados.salario AS empleados_salario, empleados.departamento AS empleados_departamento \n",
      "FROM empleados \n",
      "WHERE empleados.id = ?\n",
      "2025-09-19 09:08:54,693 INFO sqlalchemy.engine.Engine [generated in 0.00051s] (1,)\n",
      "2025-09-19 09:08:54,694 INFO sqlalchemy.engine.Engine DELETE FROM empleados WHERE empleados.id = ?\n",
      "2025-09-19 09:08:54,695 INFO sqlalchemy.engine.Engine [generated in 0.00059s] (1,)\n",
      "2025-09-19 09:08:54,696 INFO sqlalchemy.engine.Engine COMMIT\n"
     ]
    }
   ],
   "source": [
    "#Eliminar datos \n",
    "seccion.delete(empleado)\n",
    "seccion.commit()"
   ]
  },
  {
   "cell_type": "code",
   "execution_count": 6,
   "id": "b4d7275e",
   "metadata": {},
   "outputs": [],
   "source": [
    "#Relaciones con la tabla\n",
    "from sqlalchemy.orm import relationship\n"
   ]
  },
  {
   "cell_type": "code",
   "execution_count": null,
   "id": "4771300d",
   "metadata": {},
   "outputs": [
    {
     "name": "stdout",
     "output_type": "stream",
     "text": [
      "2025-09-19 09:12:19,503 INFO sqlalchemy.engine.Engine BEGIN (implicit)\n",
      "2025-09-19 09:12:19,504 INFO sqlalchemy.engine.Engine PRAGMA main.table_info(\"departamento\")\n",
      "2025-09-19 09:12:19,504 INFO sqlalchemy.engine.Engine [raw sql] ()\n",
      "2025-09-19 09:12:19,505 INFO sqlalchemy.engine.Engine PRAGMA temp.table_info(\"departamento\")\n",
      "2025-09-19 09:12:19,506 INFO sqlalchemy.engine.Engine [raw sql] ()\n",
      "2025-09-19 09:12:19,507 INFO sqlalchemy.engine.Engine PRAGMA main.table_info(\"colaborador\")\n",
      "2025-09-19 09:12:19,507 INFO sqlalchemy.engine.Engine [raw sql] ()\n",
      "2025-09-19 09:12:19,507 INFO sqlalchemy.engine.Engine PRAGMA temp.table_info(\"colaborador\")\n",
      "2025-09-19 09:12:19,508 INFO sqlalchemy.engine.Engine [raw sql] ()\n",
      "2025-09-19 09:12:19,509 INFO sqlalchemy.engine.Engine \n",
      "CREATE TABLE departamento (\n",
      "\tid INTEGER NOT NULL, \n",
      "\tnombre VARCHAR, \n",
      "\tPRIMARY KEY (id)\n",
      ")\n",
      "\n",
      "\n",
      "2025-09-19 09:12:19,509 INFO sqlalchemy.engine.Engine [no key 0.00024s] ()\n",
      "2025-09-19 09:12:19,521 INFO sqlalchemy.engine.Engine \n",
      "CREATE TABLE colaborador (\n",
      "\tid INTEGER NOT NULL, \n",
      "\tnombre VARCHAR, \n",
      "\tdepartamento_id INTEGER, \n",
      "\tPRIMARY KEY (id), \n",
      "\tFOREIGN KEY(departamento_id) REFERENCES departamento (id)\n",
      ")\n",
      "\n",
      "\n",
      "2025-09-19 09:12:19,521 INFO sqlalchemy.engine.Engine [no key 0.00044s] ()\n",
      "2025-09-19 09:12:19,529 INFO sqlalchemy.engine.Engine COMMIT\n",
      "2025-09-19 09:12:19,532 INFO sqlalchemy.engine.Engine BEGIN (implicit)\n",
      "2025-09-19 09:12:19,533 INFO sqlalchemy.engine.Engine INSERT INTO departamento (nombre) VALUES (?) RETURNING id\n",
      "2025-09-19 09:12:19,533 INFO sqlalchemy.engine.Engine [generated in 0.00008s (insertmanyvalues) 1/2 (ordered; batch not supported)] ('Recursos Humanos',)\n",
      "2025-09-19 09:12:19,534 INFO sqlalchemy.engine.Engine INSERT INTO departamento (nombre) VALUES (?) RETURNING id\n",
      "2025-09-19 09:12:19,535 INFO sqlalchemy.engine.Engine [insertmanyvalues 2/2 (ordered; batch not supported)] ('Finanzas',)\n",
      "2025-09-19 09:12:19,536 INFO sqlalchemy.engine.Engine INSERT INTO colaborador (nombre, departamento_id) VALUES (?, ?) RETURNING id\n",
      "2025-09-19 09:12:19,536 INFO sqlalchemy.engine.Engine [generated in 0.00005s (insertmanyvalues) 1/2 (ordered; batch not supported)] ('Carlos Pérez', 1)\n",
      "2025-09-19 09:12:19,537 INFO sqlalchemy.engine.Engine INSERT INTO colaborador (nombre, departamento_id) VALUES (?, ?) RETURNING id\n",
      "2025-09-19 09:12:19,537 INFO sqlalchemy.engine.Engine [insertmanyvalues 2/2 (ordered; batch not supported)] ('Ana Gómez', 2)\n",
      "2025-09-19 09:12:19,538 INFO sqlalchemy.engine.Engine COMMIT\n",
      "2025-09-19 09:12:19,545 INFO sqlalchemy.engine.Engine BEGIN (implicit)\n",
      "2025-09-19 09:12:19,547 INFO sqlalchemy.engine.Engine SELECT colaborador.id AS colaborador_id, colaborador.nombre AS colaborador_nombre, colaborador.departamento_id AS colaborador_departamento_id \n",
      "FROM colaborador\n",
      "2025-09-19 09:12:19,547 INFO sqlalchemy.engine.Engine [generated in 0.00047s] ()\n",
      "2025-09-19 09:12:19,549 INFO sqlalchemy.engine.Engine SELECT departamento.id AS departamento_id, departamento.nombre AS departamento_nombre \n",
      "FROM departamento \n",
      "WHERE departamento.id = ?\n",
      "2025-09-19 09:12:19,549 INFO sqlalchemy.engine.Engine [generated in 0.00041s] (1,)\n",
      "Colaborador: Carlos Pérez, Departamento: Recursos Humanos\n",
      "2025-09-19 09:12:19,550 INFO sqlalchemy.engine.Engine SELECT departamento.id AS departamento_id, departamento.nombre AS departamento_nombre \n",
      "FROM departamento \n",
      "WHERE departamento.id = ?\n",
      "2025-09-19 09:12:19,550 INFO sqlalchemy.engine.Engine [cached since 0.001715s ago] (2,)\n",
      "Colaborador: Ana Gómez, Departamento: Finanzas\n"
     ]
    }
   ],
   "source": [
    "# Declarar base\n",
    "Base = declarative_base()\n",
    "\n",
    "# ======================\n",
    "# Definición de clases\n",
    "# ======================\n",
    "class Departamento(Base):\n",
    "    __tablename__ = 'departamento'\n",
    "    \n",
    "    id = Column(Integer, primary_key=True)\n",
    "    nombre = Column(String)\n",
    "    colaboradores = relationship(\"Colaborador\", back_populates=\"departamento\")\n",
    "\n",
    "class Colaborador(Base):\n",
    "    __tablename__ = 'colaborador'\n",
    "    \n",
    "    id = Column(Integer, primary_key=True)\n",
    "    nombre = Column(String)\n",
    "    departamento_id = Column(Integer, ForeignKey('departamento.id'))\n",
    "    departamento = relationship(\"Departamento\", back_populates=\"colaboradores\")\n",
    "\n",
    "# ======================\n",
    "# Conexión a la BD\n",
    "# ======================\n",
    "# Usa archivo SQLite empresa.db\n",
    "engine = create_engine(\"sqlite:///empresa.db\", echo=True)\n",
    "\n",
    "# 👈 MUY IMPORTANTE: Crear las tablas\n",
    "Base.metadata.create_all(engine)\n",
    "\n",
    "# ======================\n",
    "# Crear sesión\n",
    "# ======================\n",
    "Session = sessionmaker(bind=engine)\n",
    "session = Session()\n",
    "\n",
    "# ======================\n",
    "# Insertar datos\n",
    "# ======================\n",
    "dep1 = Departamento(nombre=\"Recursos Humanos\")\n",
    "dep2 = Departamento(nombre=\"Finanzas\")\n",
    "\n",
    "col1 = Colaborador(nombre=\"Carlos Pérez\", departamento=dep1)\n",
    "col2 = Colaborador(nombre=\"Ana Gómez\", departamento=dep2)\n",
    "\n",
    "session.add_all([dep1, dep2, col1, col2])\n",
    "session.commit()\n",
    "\n",
    "\n",
    "\n",
    "    \n"
   ]
  },
  {
   "cell_type": "code",
   "execution_count": 11,
   "id": "f2a9d3dd",
   "metadata": {},
   "outputs": [
    {
     "name": "stdout",
     "output_type": "stream",
     "text": [
      "2025-09-19 09:12:54,830 INFO sqlalchemy.engine.Engine SELECT colaborador.id AS colaborador_id, colaborador.nombre AS colaborador_nombre, colaborador.departamento_id AS colaborador_departamento_id \n",
      "FROM colaborador\n",
      "2025-09-19 09:12:54,830 INFO sqlalchemy.engine.Engine [cached since 35.28s ago] ()\n",
      "Colaborador: Carlos Pérez, Departamento: Recursos Humanos\n",
      "Colaborador: Ana Gómez, Departamento: Finanzas\n"
     ]
    }
   ],
   "source": [
    "# ======================\n",
    "# Consultar\n",
    "# ======================\n",
    "for colab in session.query(Colaborador).all():\n",
    "    print(f\"Colaborador: {colab.nombre}, Departamento: {colab.departamento.nombre}\")"
   ]
  }
 ],
 "metadata": {
  "kernelspec": {
   "display_name": "venv",
   "language": "python",
   "name": "python3"
  },
  "language_info": {
   "codemirror_mode": {
    "name": "ipython",
    "version": 3
   },
   "file_extension": ".py",
   "mimetype": "text/x-python",
   "name": "python",
   "nbconvert_exporter": "python",
   "pygments_lexer": "ipython3",
   "version": "3.13.0"
  }
 },
 "nbformat": 4,
 "nbformat_minor": 5
}
