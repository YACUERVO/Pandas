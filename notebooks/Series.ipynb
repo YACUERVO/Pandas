{
 "cells": [
  {
   "cell_type": "code",
   "execution_count": 4,
   "id": "8d72a430",
   "metadata": {},
   "outputs": [],
   "source": [
    "import pandas as pd\n",
    "import numpy as np"
   ]
  },
  {
   "cell_type": "code",
   "execution_count": 5,
   "id": "7ecf45ff",
   "metadata": {},
   "outputs": [
    {
     "data": {
      "text/plain": [
       "0    1\n",
       "1    2\n",
       "2    3\n",
       "3    4\n",
       "4    5\n",
       "dtype: int64"
      ]
     },
     "execution_count": 5,
     "metadata": {},
     "output_type": "execute_result"
    }
   ],
   "source": [
    "numeros = pd.Series([1,2,3,4,5])\n",
    "numeros"
   ]
  },
  {
   "cell_type": "code",
   "execution_count": 6,
   "id": "464c8214",
   "metadata": {},
   "outputs": [
    {
     "data": {
      "text/plain": [
       "a    1\n",
       "b    2\n",
       "c    3\n",
       "d    4\n",
       "e    5\n",
       "dtype: int64"
      ]
     },
     "execution_count": 6,
     "metadata": {},
     "output_type": "execute_result"
    }
   ],
   "source": [
    "numeros = pd.Series([1,2,3,4,5], index = ['a','b','c','d','e'])\n",
    "numeros\t"
   ]
  },
  {
   "cell_type": "code",
   "execution_count": 7,
   "id": "b3f5f503",
   "metadata": {},
   "outputs": [
    {
     "data": {
      "text/plain": [
       "nombre                         Juan\n",
       "edad                             30\n",
       "ciudad                       Madrid\n",
       "pais                         España\n",
       "telefono                 1234567890\n",
       "numero_hijos                      2\n",
       "casado                         True\n",
       "salario                       50000\n",
       "fecha_nacimiento         1990-01-01\n",
       "email                juan@gmail.com\n",
       "direccion           Calle Falsa 123\n",
       "codigo_postal                 28001\n",
       "dtype: object"
      ]
     },
     "execution_count": 7,
     "metadata": {},
     "output_type": "execute_result"
    }
   ],
   "source": [
    "# Creamos un diccionario simple\n",
    "mi_diccionario = {\n",
    "    'nombre': 'Juan',\n",
    "    'edad': 30,\n",
    "    'ciudad': 'Madrid',\n",
    "    'pais': 'España',\n",
    "    'telefono': '1234567890',\n",
    "    'numero_hijos': 2,\n",
    "    'casado': True,\n",
    "    'salario': 50000,\n",
    "    'fecha_nacimiento': '1990-01-01',\n",
    "    'email': 'juan@gmail.com',\n",
    "    'direccion': 'Calle Falsa 123',\n",
    "    'codigo_postal': '28001',\n",
    "}\n",
    "\n",
    "# Convertimos el diccionario a una serie\n",
    "serie = pd.Series(mi_diccionario)\n",
    "serie\n",
    "\n",
    "\n",
    "\n",
    "\n",
    "\n"
   ]
  },
  {
   "cell_type": "code",
   "execution_count": 8,
   "id": "c2727306",
   "metadata": {},
   "outputs": [
    {
     "data": {
      "text/plain": [
       "'Juan'"
      ]
     },
     "execution_count": 8,
     "metadata": {},
     "output_type": "execute_result"
    }
   ],
   "source": [
    "mi_diccionario['nombre']"
   ]
  },
  {
   "cell_type": "code",
   "execution_count": 10,
   "id": "3b69f5f6",
   "metadata": {},
   "outputs": [
    {
     "data": {
      "text/plain": [
       "'yamith'"
      ]
     },
     "execution_count": 10,
     "metadata": {},
     "output_type": "execute_result"
    }
   ],
   "source": [
    "mi_diccionario['nombre'] = 'yamith'\n",
    "mi_diccionario['nombre']"
   ]
  },
  {
   "cell_type": "code",
   "execution_count": 11,
   "id": "64d88607",
   "metadata": {},
   "outputs": [
    {
     "data": {
      "text/plain": [
       "0    0.000000\n",
       "1    0.693147\n",
       "2    1.098612\n",
       "3    1.386294\n",
       "4    1.609438\n",
       "dtype: float64"
      ]
     },
     "execution_count": 11,
     "metadata": {},
     "output_type": "execute_result"
    }
   ],
   "source": [
    "serie_numeros = pd.Series([1,2,3,4,5])\n",
    "serie_numeros.apply(np.log)\n"
   ]
  },
  {
   "cell_type": "code",
   "execution_count": 12,
   "id": "1ab21c13",
   "metadata": {},
   "outputs": [
    {
     "data": {
      "text/html": [
       "<div>\n",
       "<style scoped>\n",
       "    .dataframe tbody tr th:only-of-type {\n",
       "        vertical-align: middle;\n",
       "    }\n",
       "\n",
       "    .dataframe tbody tr th {\n",
       "        vertical-align: top;\n",
       "    }\n",
       "\n",
       "    .dataframe thead th {\n",
       "        text-align: right;\n",
       "    }\n",
       "</style>\n",
       "<table border=\"1\" class=\"dataframe\">\n",
       "  <thead>\n",
       "    <tr style=\"text-align: right;\">\n",
       "      <th></th>\n",
       "      <th>nombre</th>\n",
       "      <th>edad</th>\n",
       "    </tr>\n",
       "  </thead>\n",
       "  <tbody>\n",
       "    <tr>\n",
       "      <th>0</th>\n",
       "      <td>Juan</td>\n",
       "      <td>25</td>\n",
       "    </tr>\n",
       "    <tr>\n",
       "      <th>1</th>\n",
       "      <td>Maria</td>\n",
       "      <td>30</td>\n",
       "    </tr>\n",
       "    <tr>\n",
       "      <th>2</th>\n",
       "      <td>Pedro</td>\n",
       "      <td>35</td>\n",
       "    </tr>\n",
       "    <tr>\n",
       "      <th>3</th>\n",
       "      <td>Ana</td>\n",
       "      <td>40</td>\n",
       "    </tr>\n",
       "    <tr>\n",
       "      <th>4</th>\n",
       "      <td>Luis</td>\n",
       "      <td>45</td>\n",
       "    </tr>\n",
       "  </tbody>\n",
       "</table>\n",
       "</div>"
      ],
      "text/plain": [
       "  nombre  edad\n",
       "0   Juan    25\n",
       "1  Maria    30\n",
       "2  Pedro    35\n",
       "3    Ana    40\n",
       "4   Luis    45"
      ]
     },
     "execution_count": 12,
     "metadata": {},
     "output_type": "execute_result"
    }
   ],
   "source": [
    "serie_nombres = pd.Series(['Juan', 'Maria', 'Pedro', 'Ana', 'Luis'])\n",
    "serie_edades = pd.Series([25, 30, 35, 40, 45])\n",
    "df_personas = pd.DataFrame({'nombre': serie_nombres, 'edad': serie_edades})\n",
    "df_personas"
   ]
  },
  {
   "cell_type": "code",
   "execution_count": null,
   "id": "52689a3e",
   "metadata": {},
   "outputs": [],
   "source": []
  }
 ],
 "metadata": {
  "kernelspec": {
   "display_name": "venv",
   "language": "python",
   "name": "python3"
  },
  "language_info": {
   "codemirror_mode": {
    "name": "ipython",
    "version": 3
   },
   "file_extension": ".py",
   "mimetype": "text/x-python",
   "name": "python",
   "nbconvert_exporter": "python",
   "pygments_lexer": "ipython3",
   "version": "3.13.0"
  }
 },
 "nbformat": 4,
 "nbformat_minor": 5
}
