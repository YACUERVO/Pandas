{
 "cells": [
  {
   "cell_type": "code",
   "execution_count": 1,
   "id": "8f2cf42c",
   "metadata": {},
   "outputs": [],
   "source": [
    "import pandas as pd"
   ]
  },
  {
   "cell_type": "code",
   "execution_count": 2,
   "id": "1e275b8f",
   "metadata": {},
   "outputs": [
    {
     "data": {
      "text/html": [
       "<div>\n",
       "<style scoped>\n",
       "    .dataframe tbody tr th:only-of-type {\n",
       "        vertical-align: middle;\n",
       "    }\n",
       "\n",
       "    .dataframe tbody tr th {\n",
       "        vertical-align: top;\n",
       "    }\n",
       "\n",
       "    .dataframe thead th {\n",
       "        text-align: right;\n",
       "    }\n",
       "</style>\n",
       "<table border=\"1\" class=\"dataframe\">\n",
       "  <thead>\n",
       "    <tr style=\"text-align: right;\">\n",
       "      <th></th>\n",
       "      <th>Empleado</th>\n",
       "      <th>Salario</th>\n",
       "      <th>Departamento</th>\n",
       "      <th>Años_Experiencia</th>\n",
       "    </tr>\n",
       "  </thead>\n",
       "  <tbody>\n",
       "    <tr>\n",
       "      <th>0</th>\n",
       "      <td>Juan</td>\n",
       "      <td>50000</td>\n",
       "      <td>Ventas</td>\n",
       "      <td>5</td>\n",
       "    </tr>\n",
       "    <tr>\n",
       "      <th>1</th>\n",
       "      <td>Ana</td>\n",
       "      <td>60000</td>\n",
       "      <td>Marketing</td>\n",
       "      <td>7</td>\n",
       "    </tr>\n",
       "    <tr>\n",
       "      <th>2</th>\n",
       "      <td>Pedro</td>\n",
       "      <td>55000</td>\n",
       "      <td>Ventas</td>\n",
       "      <td>6</td>\n",
       "    </tr>\n",
       "    <tr>\n",
       "      <th>3</th>\n",
       "      <td>Maria</td>\n",
       "      <td>58000</td>\n",
       "      <td>IT</td>\n",
       "      <td>8</td>\n",
       "    </tr>\n",
       "    <tr>\n",
       "      <th>4</th>\n",
       "      <td>Luis</td>\n",
       "      <td>62000</td>\n",
       "      <td>Marketing</td>\n",
       "      <td>9</td>\n",
       "    </tr>\n",
       "  </tbody>\n",
       "</table>\n",
       "</div>"
      ],
      "text/plain": [
       "  Empleado  Salario Departamento  Años_Experiencia\n",
       "0     Juan    50000       Ventas                 5\n",
       "1      Ana    60000    Marketing                 7\n",
       "2    Pedro    55000       Ventas                 6\n",
       "3    Maria    58000           IT                 8\n",
       "4     Luis    62000    Marketing                 9"
      ]
     },
     "execution_count": 2,
     "metadata": {},
     "output_type": "execute_result"
    }
   ],
   "source": [
    "data = {\n",
    "    'Empleado': ['Juan', 'Ana', 'Pedro', 'Maria', 'Luis'],\n",
    "    'Salario': [50000, 60000, 55000, 58000, 62000],\n",
    "    'Departamento': ['Ventas', 'Marketing', 'Ventas', 'IT', 'Marketing'],\n",
    "    'Años_Experiencia': [5, 7, 6, 8, 9]   \n",
    "    \n",
    "}\n",
    "\n",
    "df = pd.DataFrame(data)\n",
    "# This code creates a DataFrame with employee data including their names, salaries, departments, and\n",
    "# years of experience. The DataFrame is then displayed.\n",
    "\n",
    "df"
   ]
  },
  {
   "cell_type": "code",
   "execution_count": 3,
   "id": "04e709db",
   "metadata": {},
   "outputs": [
    {
     "name": "stdout",
     "output_type": "stream",
     "text": [
      "DataFrame con columnas renombradas:\n",
      "   Empleado  Salario_Anual Departamento  Experiencia\n",
      "0     Juan          50000       Ventas            5\n",
      "1      Ana          60000    Marketing            7\n",
      "2    Pedro          55000       Ventas            6\n",
      "3    Maria          58000           IT            8\n",
      "4     Luis          62000    Marketing            9\n"
     ]
    }
   ],
   "source": [
    "df_renombrado = df.rename(columns={'Salario': 'Salario_Anual', 'Años_Experiencia': 'Experiencia'})\n",
    "print(\"DataFrame con columnas renombradas:\\n\", df_renombrado)\n",
    "# This code renames the columns 'Salario' to 'Salario_Anual'"
   ]
  },
  {
   "cell_type": "code",
   "execution_count": 4,
   "id": "b83a80ba",
   "metadata": {},
   "outputs": [
    {
     "name": "stdout",
     "output_type": "stream",
     "text": [
      "DataFrame con columnas renombradas usando asignación directa:\n",
      "   Empleado  Salario_Anual Departamento  Experiencia\n",
      "0     Juan          50000       Ventas            5\n",
      "1      Ana          60000    Marketing            7\n",
      "2    Pedro          55000       Ventas            6\n",
      "3    Maria          58000           IT            8\n",
      "4     Luis          62000    Marketing            9\n"
     ]
    }
   ],
   "source": [
    "df.columns = ['Empleado', 'Salario_Anual', 'Departamento', 'Experiencia']\n",
    "print(\"DataFrame con columnas renombradas usando asignación directa:\\n\", df)"
   ]
  },
  {
   "cell_type": "code",
   "execution_count": null,
   "id": "dada546e",
   "metadata": {},
   "outputs": [
    {
     "name": "stdout",
     "output_type": "stream",
     "text": [
      "DataFrame con índices renombrados:\n",
      "         Empleado  Salario_Anual Departamento  Experiencia\n",
      "Primero     Juan          50000       Ventas            5\n",
      "Segundo      Ana          60000    Marketing            7\n",
      "Tercero    Pedro          55000       Ventas            6\n",
      "Cuarto     Maria          58000           IT            8\n",
      "Quinto      Luis          62000    Marketing            9\n"
     ]
    }
   ],
   "source": [
    "#Renombrar índices\n",
    "df_renombrado_indices = df.rename(index={0: 'Primero', 1: 'Segundo', 2: 'Tercero', 3: 'Cuarto', 4: 'Quinto'})\n",
    "print(\"DataFrame con índices renombrados:\\n\", df_renombrado_indices)\n"
   ]
  },
  {
   "cell_type": "code",
   "execution_count": 6,
   "id": "241c75df",
   "metadata": {},
   "outputs": [
    {
     "name": "stdout",
     "output_type": "stream",
     "text": [
      "DataFrame original con índices renombrados:\n",
      "      Empleado  Salario_Anual Departamento  Experiencia\n",
      "Emp1     Juan          50000       Ventas            5\n",
      "Emp2      Ana          60000    Marketing            7\n",
      "Emp3    Pedro          55000       Ventas            6\n",
      "Emp4    Maria          58000           IT            8\n",
      "Emp5     Luis          62000    Marketing            9\n"
     ]
    }
   ],
   "source": [
    "#Renombrar índices al dataframe original\n",
    "df.index = ['Emp1', 'Emp2', 'Emp3', 'Emp4', 'Emp5']\n",
    "print(\"DataFrame original con índices renombrados:\\n\", df)"
   ]
  },
  {
   "cell_type": "code",
   "execution_count": null,
   "id": "bfa781fa",
   "metadata": {},
   "outputs": [
    {
     "name": "stdout",
     "output_type": "stream",
     "text": [
      "DataFrame reorganizado:\n",
      "      Empleado Departamento  Experiencia  Salario_Anual\n",
      "Emp1     Juan       Ventas            5          50000\n",
      "Emp2      Ana    Marketing            7          60000\n",
      "Emp3    Pedro       Ventas            6          55000\n",
      "Emp4    Maria           IT            8          58000\n",
      "Emp5     Luis    Marketing            9          62000\n"
     ]
    }
   ],
   "source": [
    "#Datafram reorganizado para cambiar el orden de las columnas se crea una nueva variable o dataframe\n",
    "df_reorganizado = df.reindex(columns=['Empleado', 'Departamento', 'Experiencia', 'Salario_Anual'])\n",
    "print(\"DataFrame reorganizado:\\n\", df_reorganizado)"
   ]
  },
  {
   "cell_type": "code",
   "execution_count": null,
   "id": "fbb1a3e2",
   "metadata": {},
   "outputs": [
    {
     "data": {
      "text/html": [
       "<div>\n",
       "<style scoped>\n",
       "    .dataframe tbody tr th:only-of-type {\n",
       "        vertical-align: middle;\n",
       "    }\n",
       "\n",
       "    .dataframe tbody tr th {\n",
       "        vertical-align: top;\n",
       "    }\n",
       "\n",
       "    .dataframe thead th {\n",
       "        text-align: right;\n",
       "    }\n",
       "</style>\n",
       "<table border=\"1\" class=\"dataframe\">\n",
       "  <thead>\n",
       "    <tr style=\"text-align: right;\">\n",
       "      <th></th>\n",
       "      <th>Experiencia</th>\n",
       "      <th>Empleado</th>\n",
       "      <th>Salario_Anual</th>\n",
       "      <th>Departamento</th>\n",
       "    </tr>\n",
       "  </thead>\n",
       "  <tbody>\n",
       "    <tr>\n",
       "      <th>Emp1</th>\n",
       "      <td>5</td>\n",
       "      <td>Juan</td>\n",
       "      <td>50000</td>\n",
       "      <td>Ventas</td>\n",
       "    </tr>\n",
       "    <tr>\n",
       "      <th>Emp2</th>\n",
       "      <td>7</td>\n",
       "      <td>Ana</td>\n",
       "      <td>60000</td>\n",
       "      <td>Marketing</td>\n",
       "    </tr>\n",
       "    <tr>\n",
       "      <th>Emp3</th>\n",
       "      <td>6</td>\n",
       "      <td>Pedro</td>\n",
       "      <td>55000</td>\n",
       "      <td>Ventas</td>\n",
       "    </tr>\n",
       "    <tr>\n",
       "      <th>Emp4</th>\n",
       "      <td>8</td>\n",
       "      <td>Maria</td>\n",
       "      <td>58000</td>\n",
       "      <td>IT</td>\n",
       "    </tr>\n",
       "    <tr>\n",
       "      <th>Emp5</th>\n",
       "      <td>9</td>\n",
       "      <td>Luis</td>\n",
       "      <td>62000</td>\n",
       "      <td>Marketing</td>\n",
       "    </tr>\n",
       "  </tbody>\n",
       "</table>\n",
       "</div>"
      ],
      "text/plain": [
       "      Experiencia Empleado  Salario_Anual Departamento\n",
       "Emp1            5     Juan          50000       Ventas\n",
       "Emp2            7      Ana          60000    Marketing\n",
       "Emp3            6    Pedro          55000       Ventas\n",
       "Emp4            8    Maria          58000           IT\n",
       "Emp5            9     Luis          62000    Marketing"
      ]
     },
     "execution_count": 10,
     "metadata": {},
     "output_type": "execute_result"
    }
   ],
   "source": [
    "#Organizado colunas con una lista con el dataframe original\n",
    "df = df[['Experiencia', 'Empleado', 'Salario_Anual', 'Departamento']]\n",
    "df"
   ]
  },
  {
   "cell_type": "code",
   "execution_count": null,
   "id": "a1b86fbf",
   "metadata": {},
   "outputs": [
    {
     "name": "stdout",
     "output_type": "stream",
     "text": [
      "DataFrame con filas reorganizadas:\n",
      "       Experiencia Empleado  Salario_Anual Departamento\n",
      "Emp3            6    Pedro          55000       Ventas\n",
      "Emp1            5     Juan          50000       Ventas\n",
      "Emp2            7      Ana          60000    Marketing\n",
      "Emp5            9     Luis          62000    Marketing\n",
      "Emp4            8    Maria          58000           IT\n"
     ]
    }
   ],
   "source": [
    "#Ordenar filas por valores de un índice específico se crea una nueva variable o dataframe\n",
    "df_reorganizado_filas = df.reindex(index=['Emp3', 'Emp1', 'Emp2', 'Emp5', 'Emp4'])\n",
    "print(\"DataFrame con filas reorganizadas:\\n\", df_reorganizado_filas)"
   ]
  },
  {
   "cell_type": "code",
   "execution_count": 12,
   "id": "2d3cd8b4",
   "metadata": {},
   "outputs": [
    {
     "data": {
      "text/html": [
       "<div>\n",
       "<style scoped>\n",
       "    .dataframe tbody tr th:only-of-type {\n",
       "        vertical-align: middle;\n",
       "    }\n",
       "\n",
       "    .dataframe tbody tr th {\n",
       "        vertical-align: top;\n",
       "    }\n",
       "\n",
       "    .dataframe thead th {\n",
       "        text-align: right;\n",
       "    }\n",
       "</style>\n",
       "<table border=\"1\" class=\"dataframe\">\n",
       "  <thead>\n",
       "    <tr style=\"text-align: right;\">\n",
       "      <th></th>\n",
       "      <th>Experiencia</th>\n",
       "      <th>Empleado</th>\n",
       "      <th>Salario_Anual</th>\n",
       "      <th>Departamento</th>\n",
       "    </tr>\n",
       "  </thead>\n",
       "  <tbody>\n",
       "    <tr>\n",
       "      <th>Emp1</th>\n",
       "      <td>5</td>\n",
       "      <td>Juan</td>\n",
       "      <td>50000</td>\n",
       "      <td>Ventas</td>\n",
       "    </tr>\n",
       "    <tr>\n",
       "      <th>Emp2</th>\n",
       "      <td>7</td>\n",
       "      <td>Ana</td>\n",
       "      <td>60000</td>\n",
       "      <td>Marketing</td>\n",
       "    </tr>\n",
       "    <tr>\n",
       "      <th>Emp3</th>\n",
       "      <td>6</td>\n",
       "      <td>Pedro</td>\n",
       "      <td>55000</td>\n",
       "      <td>Ventas</td>\n",
       "    </tr>\n",
       "    <tr>\n",
       "      <th>Emp4</th>\n",
       "      <td>8</td>\n",
       "      <td>Maria</td>\n",
       "      <td>58000</td>\n",
       "      <td>IT</td>\n",
       "    </tr>\n",
       "    <tr>\n",
       "      <th>Emp5</th>\n",
       "      <td>9</td>\n",
       "      <td>Luis</td>\n",
       "      <td>62000</td>\n",
       "      <td>Marketing</td>\n",
       "    </tr>\n",
       "  </tbody>\n",
       "</table>\n",
       "</div>"
      ],
      "text/plain": [
       "      Experiencia Empleado  Salario_Anual Departamento\n",
       "Emp1            5     Juan          50000       Ventas\n",
       "Emp2            7      Ana          60000    Marketing\n",
       "Emp3            6    Pedro          55000       Ventas\n",
       "Emp4            8    Maria          58000           IT\n",
       "Emp5            9     Luis          62000    Marketing"
      ]
     },
     "execution_count": 12,
     "metadata": {},
     "output_type": "execute_result"
    }
   ],
   "source": [
    "df_ordenado_filas = df.sort_index()\n",
    "df_ordenado_filas"
   ]
  },
  {
   "cell_type": "code",
   "execution_count": null,
   "id": "393c2663",
   "metadata": {},
   "outputs": [],
   "source": []
  }
 ],
 "metadata": {
  "kernelspec": {
   "display_name": "venv",
   "language": "python",
   "name": "python3"
  },
  "language_info": {
   "codemirror_mode": {
    "name": "ipython",
    "version": 3
   },
   "file_extension": ".py",
   "mimetype": "text/x-python",
   "name": "python",
   "nbconvert_exporter": "python",
   "pygments_lexer": "ipython3",
   "version": "3.13.0"
  }
 },
 "nbformat": 4,
 "nbformat_minor": 5
}
