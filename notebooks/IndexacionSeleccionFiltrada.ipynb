{
 "cells": [
  {
   "cell_type": "code",
   "execution_count": 2,
   "id": "94e4c6f8",
   "metadata": {},
   "outputs": [],
   "source": [
    "import pandas as pd"
   ]
  },
  {
   "cell_type": "code",
   "execution_count": 3,
   "id": "fbb6fdd3",
   "metadata": {},
   "outputs": [
    {
     "data": {
      "text/html": [
       "<div>\n",
       "<style scoped>\n",
       "    .dataframe tbody tr th:only-of-type {\n",
       "        vertical-align: middle;\n",
       "    }\n",
       "\n",
       "    .dataframe tbody tr th {\n",
       "        vertical-align: top;\n",
       "    }\n",
       "\n",
       "    .dataframe thead th {\n",
       "        text-align: right;\n",
       "    }\n",
       "</style>\n",
       "<table border=\"1\" class=\"dataframe\">\n",
       "  <thead>\n",
       "    <tr style=\"text-align: right;\">\n",
       "      <th></th>\n",
       "      <th>producto</th>\n",
       "      <th>precio</th>\n",
       "      <th>stock</th>\n",
       "    </tr>\n",
       "  </thead>\n",
       "  <tbody>\n",
       "    <tr>\n",
       "      <th>0</th>\n",
       "      <td>manzana</td>\n",
       "      <td>1.2</td>\n",
       "      <td>50</td>\n",
       "    </tr>\n",
       "    <tr>\n",
       "      <th>1</th>\n",
       "      <td>banana</td>\n",
       "      <td>0.8</td>\n",
       "      <td>100</td>\n",
       "    </tr>\n",
       "    <tr>\n",
       "      <th>2</th>\n",
       "      <td>naranja</td>\n",
       "      <td>1.0</td>\n",
       "      <td>80</td>\n",
       "    </tr>\n",
       "    <tr>\n",
       "      <th>3</th>\n",
       "      <td>pera</td>\n",
       "      <td>1.5</td>\n",
       "      <td>60</td>\n",
       "    </tr>\n",
       "    <tr>\n",
       "      <th>4</th>\n",
       "      <td>uva</td>\n",
       "      <td>2.0</td>\n",
       "      <td>40</td>\n",
       "    </tr>\n",
       "    <tr>\n",
       "      <th>5</th>\n",
       "      <td>sandía</td>\n",
       "      <td>3.5</td>\n",
       "      <td>20</td>\n",
       "    </tr>\n",
       "    <tr>\n",
       "      <th>6</th>\n",
       "      <td>kiwi</td>\n",
       "      <td>2.2</td>\n",
       "      <td>30</td>\n",
       "    </tr>\n",
       "    <tr>\n",
       "      <th>7</th>\n",
       "      <td>mango</td>\n",
       "      <td>2.8</td>\n",
       "      <td>25</td>\n",
       "    </tr>\n",
       "    <tr>\n",
       "      <th>8</th>\n",
       "      <td>piña</td>\n",
       "      <td>3.0</td>\n",
       "      <td>15</td>\n",
       "    </tr>\n",
       "    <tr>\n",
       "      <th>9</th>\n",
       "      <td>fresa</td>\n",
       "      <td>1.8</td>\n",
       "      <td>70</td>\n",
       "    </tr>\n",
       "  </tbody>\n",
       "</table>\n",
       "</div>"
      ],
      "text/plain": [
       "  producto  precio  stock\n",
       "0  manzana     1.2     50\n",
       "1   banana     0.8    100\n",
       "2  naranja     1.0     80\n",
       "3     pera     1.5     60\n",
       "4      uva     2.0     40\n",
       "5   sandía     3.5     20\n",
       "6     kiwi     2.2     30\n",
       "7    mango     2.8     25\n",
       "8     piña     3.0     15\n",
       "9    fresa     1.8     70"
      ]
     },
     "execution_count": 3,
     "metadata": {},
     "output_type": "execute_result"
    }
   ],
   "source": [
    "datos = {\n",
    "    'producto': ['manzana', 'banana', 'naranja', 'pera', 'uva', 'sandía', 'kiwi', 'mango', 'piña', 'fresa'],\n",
    "    'precio': [1.20, 0.80, 1.00, 1.50, 2.00, 3.50, 2.20, 2.80, 3.00, 1.80],\n",
    "    'stock': [50, 100, 80, 60, 40, 20, 30, 25, 15, 70]\n",
    "}\n",
    "\n",
    "df = pd.DataFrame(datos)\n",
    "df"
   ]
  },
  {
   "cell_type": "code",
   "execution_count": 4,
   "id": "29b27173",
   "metadata": {},
   "outputs": [
    {
     "name": "stdout",
     "output_type": "stream",
     "text": [
      "Columna 'precio': \n",
      " 0    1.2\n",
      "1    0.8\n",
      "2    1.0\n",
      "3    1.5\n",
      "4    2.0\n",
      "5    3.5\n",
      "6    2.2\n",
      "7    2.8\n",
      "8    3.0\n",
      "9    1.8\n",
      "Name: precio, dtype: float64\n"
     ]
    }
   ],
   "source": [
    "#Como acceder a los datos de un DataFrame\n",
    "#Acceso a una columna\n",
    "precio = df['precio']\n",
    "print(f\"Columna 'precio': \\n {precio}\")\n",
    "\n"
   ]
  },
  {
   "cell_type": "code",
   "execution_count": 5,
   "id": "702b322f",
   "metadata": {},
   "outputs": [
    {
     "name": "stdout",
     "output_type": "stream",
     "text": [
      "Fila 'banana': \n",
      " banana\n",
      "Fila 'banana' completa: \n",
      " producto    banana\n",
      "precio         0.8\n",
      "stock          100\n",
      "Name: 1, dtype: object\n"
     ]
    }
   ],
   "source": [
    "#Acceso a una fila\n",
    "#Log de la fila 'fila_banano' basado en el índice\n",
    "fila_banano = df.loc[1,'producto']\n",
    "print(f\"Fila 'banana': \\n {fila_banano}\")\n",
    "\n",
    "#Acceso a un valor específico\n",
    "fila_banano_1 = df.loc[1]\n",
    "print(f\"Fila 'banana' completa: \\n {fila_banano_1}\")"
   ]
  },
  {
   "cell_type": "code",
   "execution_count": 6,
   "id": "d079025a",
   "metadata": {},
   "outputs": [
    {
     "name": "stdout",
     "output_type": "stream",
     "text": [
      "Fila 'banana': \n",
      " banana\n"
     ]
    }
   ],
   "source": [
    "#Otra forma de acceder a una fila usando iloc (index location)\n",
    "#Acceso a la fila en la posición 1 (segunda fila)\n",
    "fila_banano = df.iloc[1,0]\n",
    "print(f\"Fila 'banana': \\n {fila_banano}\")"
   ]
  },
  {
   "cell_type": "code",
   "execution_count": 7,
   "id": "f1b979b9",
   "metadata": {},
   "outputs": [
    {
     "data": {
      "text/html": [
       "<div>\n",
       "<style scoped>\n",
       "    .dataframe tbody tr th:only-of-type {\n",
       "        vertical-align: middle;\n",
       "    }\n",
       "\n",
       "    .dataframe tbody tr th {\n",
       "        vertical-align: top;\n",
       "    }\n",
       "\n",
       "    .dataframe thead th {\n",
       "        text-align: right;\n",
       "    }\n",
       "</style>\n",
       "<table border=\"1\" class=\"dataframe\">\n",
       "  <thead>\n",
       "    <tr style=\"text-align: right;\">\n",
       "      <th></th>\n",
       "      <th>precio</th>\n",
       "      <th>stock</th>\n",
       "    </tr>\n",
       "    <tr>\n",
       "      <th>producto</th>\n",
       "      <th></th>\n",
       "      <th></th>\n",
       "    </tr>\n",
       "  </thead>\n",
       "  <tbody>\n",
       "    <tr>\n",
       "      <th>manzana</th>\n",
       "      <td>1.2</td>\n",
       "      <td>50</td>\n",
       "    </tr>\n",
       "    <tr>\n",
       "      <th>banana</th>\n",
       "      <td>0.8</td>\n",
       "      <td>100</td>\n",
       "    </tr>\n",
       "    <tr>\n",
       "      <th>naranja</th>\n",
       "      <td>1.0</td>\n",
       "      <td>80</td>\n",
       "    </tr>\n",
       "    <tr>\n",
       "      <th>pera</th>\n",
       "      <td>1.5</td>\n",
       "      <td>60</td>\n",
       "    </tr>\n",
       "    <tr>\n",
       "      <th>uva</th>\n",
       "      <td>2.0</td>\n",
       "      <td>40</td>\n",
       "    </tr>\n",
       "    <tr>\n",
       "      <th>sandía</th>\n",
       "      <td>3.5</td>\n",
       "      <td>20</td>\n",
       "    </tr>\n",
       "    <tr>\n",
       "      <th>kiwi</th>\n",
       "      <td>2.2</td>\n",
       "      <td>30</td>\n",
       "    </tr>\n",
       "    <tr>\n",
       "      <th>mango</th>\n",
       "      <td>2.8</td>\n",
       "      <td>25</td>\n",
       "    </tr>\n",
       "    <tr>\n",
       "      <th>piña</th>\n",
       "      <td>3.0</td>\n",
       "      <td>15</td>\n",
       "    </tr>\n",
       "    <tr>\n",
       "      <th>fresa</th>\n",
       "      <td>1.8</td>\n",
       "      <td>70</td>\n",
       "    </tr>\n",
       "  </tbody>\n",
       "</table>\n",
       "</div>"
      ],
      "text/plain": [
       "          precio  stock\n",
       "producto               \n",
       "manzana      1.2     50\n",
       "banana       0.8    100\n",
       "naranja      1.0     80\n",
       "pera         1.5     60\n",
       "uva          2.0     40\n",
       "sandía       3.5     20\n",
       "kiwi         2.2     30\n",
       "mango        2.8     25\n",
       "piña         3.0     15\n",
       "fresa        1.8     70"
      ]
     },
     "execution_count": 7,
     "metadata": {},
     "output_type": "execute_result"
    }
   ],
   "source": [
    "df_nuevo = df.set_index('producto')\n",
    "df_nuevo"
   ]
  },
  {
   "cell_type": "code",
   "execution_count": 8,
   "id": "202f9bc1",
   "metadata": {},
   "outputs": [
    {
     "name": "stdout",
     "output_type": "stream",
     "text": [
      "Fila 'naranja': \n",
      " precio     1.0\n",
      "stock     80.0\n",
      "Name: naranja, dtype: float64\n",
      "Fila en la posición 2: \n",
      " precio     1.0\n",
      "stock     80.0\n",
      "Name: naranja, dtype: float64\n"
     ]
    }
   ],
   "source": [
    "#Acceso a la fila 'naranja' usando loc\n",
    "fila_loc = df_nuevo.loc['naranja']\n",
    "print(f\"Fila 'naranja': \\n {fila_loc}\")\n",
    "\n",
    "#Acceso a la fila en la posición 2 (tercera fila) usando iloc\n",
    "fila_iloc=df_nuevo.iloc[2]\n",
    "print(f\"Fila en la posición 2: \\n {fila_iloc}\")\n"
   ]
  },
  {
   "cell_type": "code",
   "execution_count": 12,
   "id": "1f5d22d8",
   "metadata": {},
   "outputs": [
    {
     "name": "stdout",
     "output_type": "stream",
     "text": [
      "Productos con precio mayor a 2.00:\n"
     ]
    },
    {
     "data": {
      "text/html": [
       "<div>\n",
       "<style scoped>\n",
       "    .dataframe tbody tr th:only-of-type {\n",
       "        vertical-align: middle;\n",
       "    }\n",
       "\n",
       "    .dataframe tbody tr th {\n",
       "        vertical-align: top;\n",
       "    }\n",
       "\n",
       "    .dataframe thead th {\n",
       "        text-align: right;\n",
       "    }\n",
       "</style>\n",
       "<table border=\"1\" class=\"dataframe\">\n",
       "  <thead>\n",
       "    <tr style=\"text-align: right;\">\n",
       "      <th></th>\n",
       "      <th>producto</th>\n",
       "      <th>precio</th>\n",
       "      <th>stock</th>\n",
       "    </tr>\n",
       "  </thead>\n",
       "  <tbody>\n",
       "    <tr>\n",
       "      <th>5</th>\n",
       "      <td>sandía</td>\n",
       "      <td>3.5</td>\n",
       "      <td>20</td>\n",
       "    </tr>\n",
       "    <tr>\n",
       "      <th>6</th>\n",
       "      <td>kiwi</td>\n",
       "      <td>2.2</td>\n",
       "      <td>30</td>\n",
       "    </tr>\n",
       "    <tr>\n",
       "      <th>7</th>\n",
       "      <td>mango</td>\n",
       "      <td>2.8</td>\n",
       "      <td>25</td>\n",
       "    </tr>\n",
       "    <tr>\n",
       "      <th>8</th>\n",
       "      <td>piña</td>\n",
       "      <td>3.0</td>\n",
       "      <td>15</td>\n",
       "    </tr>\n",
       "  </tbody>\n",
       "</table>\n",
       "</div>"
      ],
      "text/plain": [
       "  producto  precio  stock\n",
       "5   sandía     3.5     20\n",
       "6     kiwi     2.2     30\n",
       "7    mango     2.8     25\n",
       "8     piña     3.0     15"
      ]
     },
     "execution_count": 12,
     "metadata": {},
     "output_type": "execute_result"
    }
   ],
   "source": [
    "#filtrado de datos\n",
    "#Filtrar productos con precio mayor a 2.00\n",
    "print(\"Productos con precio mayor a 2.00:\")\n",
    "filtro_precio = df[df['precio'] > 2.00]\n",
    "filtro_precio"
   ]
  },
  {
   "cell_type": "code",
   "execution_count": 11,
   "id": "9bfe73b1",
   "metadata": {},
   "outputs": [
    {
     "name": "stdout",
     "output_type": "stream",
     "text": [
      "Productos con precio mayor a 2.00 y stock menor a 30:\n"
     ]
    },
    {
     "data": {
      "text/html": [
       "<div>\n",
       "<style scoped>\n",
       "    .dataframe tbody tr th:only-of-type {\n",
       "        vertical-align: middle;\n",
       "    }\n",
       "\n",
       "    .dataframe tbody tr th {\n",
       "        vertical-align: top;\n",
       "    }\n",
       "\n",
       "    .dataframe thead th {\n",
       "        text-align: right;\n",
       "    }\n",
       "</style>\n",
       "<table border=\"1\" class=\"dataframe\">\n",
       "  <thead>\n",
       "    <tr style=\"text-align: right;\">\n",
       "      <th></th>\n",
       "      <th>producto</th>\n",
       "      <th>precio</th>\n",
       "      <th>stock</th>\n",
       "    </tr>\n",
       "  </thead>\n",
       "  <tbody>\n",
       "    <tr>\n",
       "      <th>5</th>\n",
       "      <td>sandía</td>\n",
       "      <td>3.5</td>\n",
       "      <td>20</td>\n",
       "    </tr>\n",
       "    <tr>\n",
       "      <th>7</th>\n",
       "      <td>mango</td>\n",
       "      <td>2.8</td>\n",
       "      <td>25</td>\n",
       "    </tr>\n",
       "    <tr>\n",
       "      <th>8</th>\n",
       "      <td>piña</td>\n",
       "      <td>3.0</td>\n",
       "      <td>15</td>\n",
       "    </tr>\n",
       "  </tbody>\n",
       "</table>\n",
       "</div>"
      ],
      "text/plain": [
       "  producto  precio  stock\n",
       "5   sandía     3.5     20\n",
       "7    mango     2.8     25\n",
       "8     piña     3.0     15"
      ]
     },
     "execution_count": 11,
     "metadata": {},
     "output_type": "execute_result"
    }
   ],
   "source": [
    "#filtrar datos con múltiples condiciones\n",
    "#Filtrar productos con precio mayor a 2.00 y stock menor a 30\n",
    "print(\"Productos con precio mayor a 2.00 y stock menor a 30:\")\n",
    "filtro_multiple = df[(df['precio'] > 2.00) & (df['stock'] < 30)]\n",
    "filtro_multiple"
   ]
  },
  {
   "cell_type": "code",
   "execution_count": 14,
   "id": "ae2bb24d",
   "metadata": {},
   "outputs": [
    {
     "name": "stdout",
     "output_type": "stream",
     "text": [
      "Productos con stock mayor a 50:\n"
     ]
    },
    {
     "data": {
      "text/plain": [
       "0    No cumple\n",
       "1    No cumple\n",
       "2    No cumple\n",
       "3    No cumple\n",
       "4    No cumple\n",
       "5          3.5\n",
       "6          2.2\n",
       "7          2.8\n",
       "8          3.0\n",
       "9    No cumple\n",
       "Name: precio, dtype: object"
      ]
     },
     "execution_count": 14,
     "metadata": {},
     "output_type": "execute_result"
    }
   ],
   "source": [
    "#filtrar con where\n",
    "#Usar where para filtrar productos con stock mayor a 50 \n",
    "print(\"Productos con stock mayor a 50:\")\n",
    "filtro_where = df['precio'].where(df['precio'] > 2.00,other='No cumple')\n",
    "filtro_where"
   ]
  },
  {
   "cell_type": "code",
   "execution_count": 15,
   "id": "d960ac0c",
   "metadata": {},
   "outputs": [
    {
     "name": "stdout",
     "output_type": "stream",
     "text": [
      "Productos con precio mayor a 2.00 usando query:\n"
     ]
    },
    {
     "data": {
      "text/html": [
       "<div>\n",
       "<style scoped>\n",
       "    .dataframe tbody tr th:only-of-type {\n",
       "        vertical-align: middle;\n",
       "    }\n",
       "\n",
       "    .dataframe tbody tr th {\n",
       "        vertical-align: top;\n",
       "    }\n",
       "\n",
       "    .dataframe thead th {\n",
       "        text-align: right;\n",
       "    }\n",
       "</style>\n",
       "<table border=\"1\" class=\"dataframe\">\n",
       "  <thead>\n",
       "    <tr style=\"text-align: right;\">\n",
       "      <th></th>\n",
       "      <th>producto</th>\n",
       "      <th>precio</th>\n",
       "      <th>stock</th>\n",
       "    </tr>\n",
       "  </thead>\n",
       "  <tbody>\n",
       "    <tr>\n",
       "      <th>5</th>\n",
       "      <td>sandía</td>\n",
       "      <td>3.5</td>\n",
       "      <td>20</td>\n",
       "    </tr>\n",
       "    <tr>\n",
       "      <th>6</th>\n",
       "      <td>kiwi</td>\n",
       "      <td>2.2</td>\n",
       "      <td>30</td>\n",
       "    </tr>\n",
       "    <tr>\n",
       "      <th>7</th>\n",
       "      <td>mango</td>\n",
       "      <td>2.8</td>\n",
       "      <td>25</td>\n",
       "    </tr>\n",
       "    <tr>\n",
       "      <th>8</th>\n",
       "      <td>piña</td>\n",
       "      <td>3.0</td>\n",
       "      <td>15</td>\n",
       "    </tr>\n",
       "  </tbody>\n",
       "</table>\n",
       "</div>"
      ],
      "text/plain": [
       "  producto  precio  stock\n",
       "5   sandía     3.5     20\n",
       "6     kiwi     2.2     30\n",
       "7    mango     2.8     25\n",
       "8     piña     3.0     15"
      ]
     },
     "execution_count": 15,
     "metadata": {},
     "output_type": "execute_result"
    }
   ],
   "source": [
    "#Metodo query\n",
    "#Filtrar productos con precio mayor a 2.00 usando query \n",
    "print(\"Productos con precio mayor a 2.00 usando query:\")\n",
    "filtro_query = df.query('precio > 2.00')\n",
    "filtro_query"
   ]
  },
  {
   "cell_type": "code",
   "execution_count": null,
   "id": "35ef2861",
   "metadata": {},
   "outputs": [],
   "source": []
  }
 ],
 "metadata": {
  "kernelspec": {
   "display_name": "venv",
   "language": "python",
   "name": "python3"
  },
  "language_info": {
   "codemirror_mode": {
    "name": "ipython",
    "version": 3
   },
   "file_extension": ".py",
   "mimetype": "text/x-python",
   "name": "python",
   "nbconvert_exporter": "python",
   "pygments_lexer": "ipython3",
   "version": "3.13.0"
  }
 },
 "nbformat": 4,
 "nbformat_minor": 5
}
