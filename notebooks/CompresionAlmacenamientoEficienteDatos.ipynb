{
 "cells": [
  {
   "cell_type": "code",
   "execution_count": null,
   "id": "57edabbd",
   "metadata": {},
   "outputs": [],
   "source": [
    "import pandas as pd\n",
    "\n",
    "df = df\n",
    "\n",
    "df.to_csv('data.csv.gz', index=False, compression='gzip')\n",
    "df.to_csv('data.csv.bz2', index=False, compression='bz2')\n",
    "df.to_csv('data.csv.xz', index=False, compression='xz')\n",
    "\n",
    "# Comprension en formato parquet\n",
    "df.to_parquet('data.parquet.gzip', index=False, compression='gzip')\n",
    "df.to_parquet('data.parquet.snappy', index=False, compression='snappy')\n",
    "df.to_parquet('data.parquet.brotli', index=False, compression='brotli')\n",
    "df.to_parquet('data.parquet.lz4', index=False, compression='lz4')\n",
    "df.to_parquet('data.parquet.zstd', index=False, compression='zstd')\n",
    "\n",
    "# Almacenacion ficiente en formato HDF5\n",
    "df.to_hdf('data.h5', key='df', mode='w', complevel=9, complib='blosc:zstd')\n",
    "df.to_hdf('data.h5', key='df', mode='w', complevel=9, complib='blosc:lz4')\n",
    "df.to_hdf('data.h5', key='df', mode='w', complevel=9, complib='blosc:snappy')\n",
    "df.to_hdf('data.h5', key='df', mode='w', complevel =9, complib='blosc:lz4hc')\n",
    "df.to_hdf('data.h5', key='df', mode='w', complevel=9, complib='blosc:zlib')\n",
    "df.to_hdf('data.h5', key='df', mode='w', complevel=9, complib='blosc:bzip2')\n",
    "df.to_hdf('data.h5', key='df', mode='w', complevel=9, complib='blosc:blosclz')\n",
    "df.to_hdf('data.h5', key='df', mode='w', complevel=9, complib='zlib')\n",
    "\n",
    "\n",
    "\n",
    "\n"
   ]
  }
 ],
 "metadata": {
  "language_info": {
   "name": "python"
  }
 },
 "nbformat": 4,
 "nbformat_minor": 5
}
